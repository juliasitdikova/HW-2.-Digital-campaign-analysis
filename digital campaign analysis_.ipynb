{
 "cells": [
  {
   "cell_type": "markdown",
   "id": "553f6a1d",
   "metadata": {
    "id": "553f6a1d"
   },
   "source": [
    "## HW 2. Bank digital campaign analysis\n",
    "\n",
    "--------\n",
    "\n",
    "__Authors:__ Turakulov A., Sitdikova Y., Rakhimkulova A., Yakovlev P.    \n",
    "__Group:__ BASB212  \n",
    "\n",
    "--------\n",
    "\n",
    "### Task description\n",
    "\n",
    "You are provided with data describing the results of an email and push campaigns of a bank.\n",
    "\n",
    "__The offer was the following:__  \n",
    "The client should open a new Visa card and make 3 transactions at 500 rub at least each during a 14-day\n",
    "period. If he does so, he receives a 5% cashback for all transactions made using this card during the next\n",
    "month.\n",
    "\n",
    "__The datasets contain the following information:__  \n",
    "1. The funnel metrics of a campaign (“visa_communications”)\n",
    "2. The statistic of visa card openings (“card_openings”, “card_openings_not_particip”)\n",
    "3. The transactional data within the campaign period (“transactions”, “transactions_non_particip”)\n",
    "4. The features for generating the synthetic control group (“features”).\n",
    "\n",
    "__The goal of the homework:__  \n",
    "To analyze a dataset containing customers' responses on a campaign, conclude whether the campaign\n",
    "was successful or not by calculating the financial effect using Python. The bank gets 1% of any\n",
    "transaction amount as income. "
   ]
  },
  {
   "cell_type": "code",
   "execution_count": 1,
   "id": "tOxk9s0HtVUB",
   "metadata": {
    "colab": {
     "base_uri": "https://localhost:8080/"
    },
    "id": "tOxk9s0HtVUB",
    "outputId": "a4cd38f4-7785-4b82-bcba-bd67879c1686"
   },
   "outputs": [
    {
     "name": "stdout",
     "output_type": "stream",
     "text": [
      "Looking in indexes: https://pypi.org/simple, https://us-python.pkg.dev/colab-wheels/public/simple/\n",
      "Collecting pyspark\n",
      "  Downloading pyspark-3.3.1.tar.gz (281.4 MB)\n",
      "\u001b[K     |████████████████████████████████| 281.4 MB 18 kB/s \n",
      "\u001b[?25hCollecting py4j==0.10.9.5\n",
      "  Downloading py4j-0.10.9.5-py2.py3-none-any.whl (199 kB)\n",
      "\u001b[K     |████████████████████████████████| 199 kB 60.4 MB/s \n",
      "\u001b[?25hBuilding wheels for collected packages: pyspark\n",
      "  Building wheel for pyspark (setup.py) ... \u001b[?25l\u001b[?25hdone\n",
      "  Created wheel for pyspark: filename=pyspark-3.3.1-py2.py3-none-any.whl size=281845512 sha256=34464ffdd65b5b7a3232a13e38a775851075368c3ae9b6c041ce5a4376d01ee0\n",
      "  Stored in directory: /root/.cache/pip/wheels/43/dc/11/ec201cd671da62fa9c5cc77078235e40722170ceba231d7598\n",
      "Successfully built pyspark\n",
      "Installing collected packages: py4j, pyspark\n",
      "Successfully installed py4j-0.10.9.5 pyspark-3.3.1\n"
     ]
    }
   ],
   "source": [
    "!pip install pyspark"
   ]
  },
  {
   "cell_type": "code",
   "execution_count": 2,
   "id": "b87f4582",
   "metadata": {
    "colab": {
     "base_uri": "https://localhost:8080/"
    },
    "id": "b87f4582",
    "outputId": "e9365b0c-9971-4482-8acc-b3f213cea1cc"
   },
   "outputs": [
    {
     "name": "stderr",
     "output_type": "stream",
     "text": [
      "/usr/local/lib/python3.8/dist-packages/pyspark/sql/context.py:112: FutureWarning: Deprecated in 3.0.0. Use SparkSession.builder.getOrCreate() instead.\n",
      "  warnings.warn(\n"
     ]
    }
   ],
   "source": [
    "import pandas as pd\n",
    "import numpy as np\n",
    "from pyspark.sql import SparkSession , SQLContext\n",
    "from pyspark.sql.functions import sum \n",
    "\n",
    "spark = SparkSession.builder.appName(\"HW2\").getOrCreate()\n",
    "sqlContext = SQLContext(spark)"
   ]
  },
  {
   "cell_type": "code",
   "execution_count": 3,
   "id": "wNu6H0FwtRZL",
   "metadata": {
    "colab": {
     "base_uri": "https://localhost:8080/"
    },
    "id": "wNu6H0FwtRZL",
    "outputId": "ec1112a7-6bd1-4e90-a5d7-c6c00f747488"
   },
   "outputs": [
    {
     "name": "stdout",
     "output_type": "stream",
     "text": [
      "Mounted at /content/drive\n"
     ]
    }
   ],
   "source": [
    "from google.colab import drive\n",
    "drive.mount('/content/drive')"
   ]
  },
  {
   "cell_type": "code",
   "execution_count": 4,
   "id": "16979279",
   "metadata": {
    "colab": {
     "base_uri": "https://localhost:8080/",
     "height": 206
    },
    "id": "16979279",
    "outputId": "ea0ebea1-5873-4598-c2f1-cf9a067a6aba"
   },
   "outputs": [
    {
     "data": {
      "text/html": [
       "\n",
       "  <div id=\"df-bed0a1ed-2897-419c-ad1b-31553c5978ba\">\n",
       "    <div class=\"colab-df-container\">\n",
       "      <div>\n",
       "<style scoped>\n",
       "    .dataframe tbody tr th:only-of-type {\n",
       "        vertical-align: middle;\n",
       "    }\n",
       "\n",
       "    .dataframe tbody tr th {\n",
       "        vertical-align: top;\n",
       "    }\n",
       "\n",
       "    .dataframe thead th {\n",
       "        text-align: right;\n",
       "    }\n",
       "</style>\n",
       "<table border=\"1\" class=\"dataframe\">\n",
       "  <thead>\n",
       "    <tr style=\"text-align: right;\">\n",
       "      <th></th>\n",
       "      <th>channel_type</th>\n",
       "      <th>contact_dt</th>\n",
       "      <th>control_group_flg</th>\n",
       "      <th>sent</th>\n",
       "      <th>delivered</th>\n",
       "      <th>opened</th>\n",
       "      <th>clicked</th>\n",
       "      <th>blocked</th>\n",
       "      <th>cust_id</th>\n",
       "    </tr>\n",
       "  </thead>\n",
       "  <tbody>\n",
       "    <tr>\n",
       "      <th>0</th>\n",
       "      <td>Popup</td>\n",
       "      <td>2021-08-23</td>\n",
       "      <td>0</td>\n",
       "      <td>1</td>\n",
       "      <td>1</td>\n",
       "      <td>1</td>\n",
       "      <td>0</td>\n",
       "      <td>0</td>\n",
       "      <td>5d0a0cae173c27947838b9f3ad1282fa30771272747ede...</td>\n",
       "    </tr>\n",
       "    <tr>\n",
       "      <th>1</th>\n",
       "      <td>EMAIL</td>\n",
       "      <td>2021-08-12</td>\n",
       "      <td>0</td>\n",
       "      <td>1</td>\n",
       "      <td>1</td>\n",
       "      <td>0</td>\n",
       "      <td>0</td>\n",
       "      <td>0</td>\n",
       "      <td>b70d7c45f4d1724acdba89bead5941f13d93406bcbb1d7...</td>\n",
       "    </tr>\n",
       "    <tr>\n",
       "      <th>2</th>\n",
       "      <td>Popup</td>\n",
       "      <td>2021-08-11</td>\n",
       "      <td>0</td>\n",
       "      <td>1</td>\n",
       "      <td>1</td>\n",
       "      <td>1</td>\n",
       "      <td>0</td>\n",
       "      <td>0</td>\n",
       "      <td>1b3705d419798b8723884b643dc535ae7fc7623d6f4f7c...</td>\n",
       "    </tr>\n",
       "    <tr>\n",
       "      <th>3</th>\n",
       "      <td>PUSH</td>\n",
       "      <td>2021-08-12</td>\n",
       "      <td>0</td>\n",
       "      <td>0</td>\n",
       "      <td>0</td>\n",
       "      <td>0</td>\n",
       "      <td>0</td>\n",
       "      <td>0</td>\n",
       "      <td>0064bbbb2fd516698fd113adcabef8bb52824536512e8e...</td>\n",
       "    </tr>\n",
       "    <tr>\n",
       "      <th>4</th>\n",
       "      <td>PUSH</td>\n",
       "      <td>2021-08-12</td>\n",
       "      <td>0</td>\n",
       "      <td>0</td>\n",
       "      <td>0</td>\n",
       "      <td>0</td>\n",
       "      <td>0</td>\n",
       "      <td>0</td>\n",
       "      <td>3f0be853435987e9aff8cba237e8c19334708a996cf696...</td>\n",
       "    </tr>\n",
       "  </tbody>\n",
       "</table>\n",
       "</div>\n",
       "      <button class=\"colab-df-convert\" onclick=\"convertToInteractive('df-bed0a1ed-2897-419c-ad1b-31553c5978ba')\"\n",
       "              title=\"Convert this dataframe to an interactive table.\"\n",
       "              style=\"display:none;\">\n",
       "        \n",
       "  <svg xmlns=\"http://www.w3.org/2000/svg\" height=\"24px\"viewBox=\"0 0 24 24\"\n",
       "       width=\"24px\">\n",
       "    <path d=\"M0 0h24v24H0V0z\" fill=\"none\"/>\n",
       "    <path d=\"M18.56 5.44l.94 2.06.94-2.06 2.06-.94-2.06-.94-.94-2.06-.94 2.06-2.06.94zm-11 1L8.5 8.5l.94-2.06 2.06-.94-2.06-.94L8.5 2.5l-.94 2.06-2.06.94zm10 10l.94 2.06.94-2.06 2.06-.94-2.06-.94-.94-2.06-.94 2.06-2.06.94z\"/><path d=\"M17.41 7.96l-1.37-1.37c-.4-.4-.92-.59-1.43-.59-.52 0-1.04.2-1.43.59L10.3 9.45l-7.72 7.72c-.78.78-.78 2.05 0 2.83L4 21.41c.39.39.9.59 1.41.59.51 0 1.02-.2 1.41-.59l7.78-7.78 2.81-2.81c.8-.78.8-2.07 0-2.86zM5.41 20L4 18.59l7.72-7.72 1.47 1.35L5.41 20z\"/>\n",
       "  </svg>\n",
       "      </button>\n",
       "      \n",
       "  <style>\n",
       "    .colab-df-container {\n",
       "      display:flex;\n",
       "      flex-wrap:wrap;\n",
       "      gap: 12px;\n",
       "    }\n",
       "\n",
       "    .colab-df-convert {\n",
       "      background-color: #E8F0FE;\n",
       "      border: none;\n",
       "      border-radius: 50%;\n",
       "      cursor: pointer;\n",
       "      display: none;\n",
       "      fill: #1967D2;\n",
       "      height: 32px;\n",
       "      padding: 0 0 0 0;\n",
       "      width: 32px;\n",
       "    }\n",
       "\n",
       "    .colab-df-convert:hover {\n",
       "      background-color: #E2EBFA;\n",
       "      box-shadow: 0px 1px 2px rgba(60, 64, 67, 0.3), 0px 1px 3px 1px rgba(60, 64, 67, 0.15);\n",
       "      fill: #174EA6;\n",
       "    }\n",
       "\n",
       "    [theme=dark] .colab-df-convert {\n",
       "      background-color: #3B4455;\n",
       "      fill: #D2E3FC;\n",
       "    }\n",
       "\n",
       "    [theme=dark] .colab-df-convert:hover {\n",
       "      background-color: #434B5C;\n",
       "      box-shadow: 0px 1px 3px 1px rgba(0, 0, 0, 0.15);\n",
       "      filter: drop-shadow(0px 1px 2px rgba(0, 0, 0, 0.3));\n",
       "      fill: #FFFFFF;\n",
       "    }\n",
       "  </style>\n",
       "\n",
       "      <script>\n",
       "        const buttonEl =\n",
       "          document.querySelector('#df-bed0a1ed-2897-419c-ad1b-31553c5978ba button.colab-df-convert');\n",
       "        buttonEl.style.display =\n",
       "          google.colab.kernel.accessAllowed ? 'block' : 'none';\n",
       "\n",
       "        async function convertToInteractive(key) {\n",
       "          const element = document.querySelector('#df-bed0a1ed-2897-419c-ad1b-31553c5978ba');\n",
       "          const dataTable =\n",
       "            await google.colab.kernel.invokeFunction('convertToInteractive',\n",
       "                                                     [key], {});\n",
       "          if (!dataTable) return;\n",
       "\n",
       "          const docLinkHtml = 'Like what you see? Visit the ' +\n",
       "            '<a target=\"_blank\" href=https://colab.research.google.com/notebooks/data_table.ipynb>data table notebook</a>'\n",
       "            + ' to learn more about interactive tables.';\n",
       "          element.innerHTML = '';\n",
       "          dataTable['output_type'] = 'display_data';\n",
       "          await google.colab.output.renderOutput(dataTable, element);\n",
       "          const docLink = document.createElement('div');\n",
       "          docLink.innerHTML = docLinkHtml;\n",
       "          element.appendChild(docLink);\n",
       "        }\n",
       "      </script>\n",
       "    </div>\n",
       "  </div>\n",
       "  "
      ],
      "text/plain": [
       "  channel_type  contact_dt  control_group_flg  sent  delivered  opened  \\\n",
       "0        Popup  2021-08-23                  0     1          1       1   \n",
       "1        EMAIL  2021-08-12                  0     1          1       0   \n",
       "2        Popup  2021-08-11                  0     1          1       1   \n",
       "3         PUSH  2021-08-12                  0     0          0       0   \n",
       "4         PUSH  2021-08-12                  0     0          0       0   \n",
       "\n",
       "   clicked  blocked                                            cust_id  \n",
       "0        0        0  5d0a0cae173c27947838b9f3ad1282fa30771272747ede...  \n",
       "1        0        0  b70d7c45f4d1724acdba89bead5941f13d93406bcbb1d7...  \n",
       "2        0        0  1b3705d419798b8723884b643dc535ae7fc7623d6f4f7c...  \n",
       "3        0        0  0064bbbb2fd516698fd113adcabef8bb52824536512e8e...  \n",
       "4        0        0  3f0be853435987e9aff8cba237e8c19334708a996cf696...  "
      ]
     },
     "execution_count": 4,
     "metadata": {},
     "output_type": "execute_result"
    }
   ],
   "source": [
    "df_visa_comms = pd.read_csv('/content/drive/MyDrive/Colab Notebooks/hw2_marketing/visa_communications.csv')\n",
    "df_visa_comms.head()"
   ]
  },
  {
   "cell_type": "code",
   "execution_count": 5,
   "id": "0254ba5b",
   "metadata": {
    "colab": {
     "base_uri": "https://localhost:8080/",
     "height": 206
    },
    "id": "0254ba5b",
    "outputId": "0de7a4f7-3645-4b74-d36c-57846f732671"
   },
   "outputs": [
    {
     "data": {
      "text/html": [
       "\n",
       "  <div id=\"df-b19d18ef-9da6-40d6-a422-0e084f376a8e\">\n",
       "    <div class=\"colab-df-container\">\n",
       "      <div>\n",
       "<style scoped>\n",
       "    .dataframe tbody tr th:only-of-type {\n",
       "        vertical-align: middle;\n",
       "    }\n",
       "\n",
       "    .dataframe tbody tr th {\n",
       "        vertical-align: top;\n",
       "    }\n",
       "\n",
       "    .dataframe thead th {\n",
       "        text-align: right;\n",
       "    }\n",
       "</style>\n",
       "<table border=\"1\" class=\"dataframe\">\n",
       "  <thead>\n",
       "    <tr style=\"text-align: right;\">\n",
       "      <th></th>\n",
       "      <th>cust_id</th>\n",
       "      <th>open_dt</th>\n",
       "      <th>contact_dt</th>\n",
       "    </tr>\n",
       "  </thead>\n",
       "  <tbody>\n",
       "    <tr>\n",
       "      <th>0</th>\n",
       "      <td>2537ec14c2e5b8607ea67dfe09ec687205c59ed152407f...</td>\n",
       "      <td>2021-08-19</td>\n",
       "      <td>2021-08-12</td>\n",
       "    </tr>\n",
       "    <tr>\n",
       "      <th>1</th>\n",
       "      <td>b6bc9799397f07c8304673d4d51e7788a143ecb710452e...</td>\n",
       "      <td>2021-08-16</td>\n",
       "      <td>2021-08-13</td>\n",
       "    </tr>\n",
       "    <tr>\n",
       "      <th>2</th>\n",
       "      <td>d09ee17e668f229697a15a940915714b838826305e6973...</td>\n",
       "      <td>2021-08-21</td>\n",
       "      <td>2021-08-13</td>\n",
       "    </tr>\n",
       "    <tr>\n",
       "      <th>3</th>\n",
       "      <td>2323b4ae10e99e72160a74c5b42c38e47f2bc0692ef0a9...</td>\n",
       "      <td>2021-08-23</td>\n",
       "      <td>2021-08-13</td>\n",
       "    </tr>\n",
       "    <tr>\n",
       "      <th>4</th>\n",
       "      <td>b056b9822c2208a83eeb7150ee4be30d7088b07fed0ec5...</td>\n",
       "      <td>2021-08-23</td>\n",
       "      <td>2021-08-13</td>\n",
       "    </tr>\n",
       "  </tbody>\n",
       "</table>\n",
       "</div>\n",
       "      <button class=\"colab-df-convert\" onclick=\"convertToInteractive('df-b19d18ef-9da6-40d6-a422-0e084f376a8e')\"\n",
       "              title=\"Convert this dataframe to an interactive table.\"\n",
       "              style=\"display:none;\">\n",
       "        \n",
       "  <svg xmlns=\"http://www.w3.org/2000/svg\" height=\"24px\"viewBox=\"0 0 24 24\"\n",
       "       width=\"24px\">\n",
       "    <path d=\"M0 0h24v24H0V0z\" fill=\"none\"/>\n",
       "    <path d=\"M18.56 5.44l.94 2.06.94-2.06 2.06-.94-2.06-.94-.94-2.06-.94 2.06-2.06.94zm-11 1L8.5 8.5l.94-2.06 2.06-.94-2.06-.94L8.5 2.5l-.94 2.06-2.06.94zm10 10l.94 2.06.94-2.06 2.06-.94-2.06-.94-.94-2.06-.94 2.06-2.06.94z\"/><path d=\"M17.41 7.96l-1.37-1.37c-.4-.4-.92-.59-1.43-.59-.52 0-1.04.2-1.43.59L10.3 9.45l-7.72 7.72c-.78.78-.78 2.05 0 2.83L4 21.41c.39.39.9.59 1.41.59.51 0 1.02-.2 1.41-.59l7.78-7.78 2.81-2.81c.8-.78.8-2.07 0-2.86zM5.41 20L4 18.59l7.72-7.72 1.47 1.35L5.41 20z\"/>\n",
       "  </svg>\n",
       "      </button>\n",
       "      \n",
       "  <style>\n",
       "    .colab-df-container {\n",
       "      display:flex;\n",
       "      flex-wrap:wrap;\n",
       "      gap: 12px;\n",
       "    }\n",
       "\n",
       "    .colab-df-convert {\n",
       "      background-color: #E8F0FE;\n",
       "      border: none;\n",
       "      border-radius: 50%;\n",
       "      cursor: pointer;\n",
       "      display: none;\n",
       "      fill: #1967D2;\n",
       "      height: 32px;\n",
       "      padding: 0 0 0 0;\n",
       "      width: 32px;\n",
       "    }\n",
       "\n",
       "    .colab-df-convert:hover {\n",
       "      background-color: #E2EBFA;\n",
       "      box-shadow: 0px 1px 2px rgba(60, 64, 67, 0.3), 0px 1px 3px 1px rgba(60, 64, 67, 0.15);\n",
       "      fill: #174EA6;\n",
       "    }\n",
       "\n",
       "    [theme=dark] .colab-df-convert {\n",
       "      background-color: #3B4455;\n",
       "      fill: #D2E3FC;\n",
       "    }\n",
       "\n",
       "    [theme=dark] .colab-df-convert:hover {\n",
       "      background-color: #434B5C;\n",
       "      box-shadow: 0px 1px 3px 1px rgba(0, 0, 0, 0.15);\n",
       "      filter: drop-shadow(0px 1px 2px rgba(0, 0, 0, 0.3));\n",
       "      fill: #FFFFFF;\n",
       "    }\n",
       "  </style>\n",
       "\n",
       "      <script>\n",
       "        const buttonEl =\n",
       "          document.querySelector('#df-b19d18ef-9da6-40d6-a422-0e084f376a8e button.colab-df-convert');\n",
       "        buttonEl.style.display =\n",
       "          google.colab.kernel.accessAllowed ? 'block' : 'none';\n",
       "\n",
       "        async function convertToInteractive(key) {\n",
       "          const element = document.querySelector('#df-b19d18ef-9da6-40d6-a422-0e084f376a8e');\n",
       "          const dataTable =\n",
       "            await google.colab.kernel.invokeFunction('convertToInteractive',\n",
       "                                                     [key], {});\n",
       "          if (!dataTable) return;\n",
       "\n",
       "          const docLinkHtml = 'Like what you see? Visit the ' +\n",
       "            '<a target=\"_blank\" href=https://colab.research.google.com/notebooks/data_table.ipynb>data table notebook</a>'\n",
       "            + ' to learn more about interactive tables.';\n",
       "          element.innerHTML = '';\n",
       "          dataTable['output_type'] = 'display_data';\n",
       "          await google.colab.output.renderOutput(dataTable, element);\n",
       "          const docLink = document.createElement('div');\n",
       "          docLink.innerHTML = docLinkHtml;\n",
       "          element.appendChild(docLink);\n",
       "        }\n",
       "      </script>\n",
       "    </div>\n",
       "  </div>\n",
       "  "
      ],
      "text/plain": [
       "                                             cust_id     open_dt  contact_dt\n",
       "0  2537ec14c2e5b8607ea67dfe09ec687205c59ed152407f...  2021-08-19  2021-08-12\n",
       "1  b6bc9799397f07c8304673d4d51e7788a143ecb710452e...  2021-08-16  2021-08-13\n",
       "2  d09ee17e668f229697a15a940915714b838826305e6973...  2021-08-21  2021-08-13\n",
       "3  2323b4ae10e99e72160a74c5b42c38e47f2bc0692ef0a9...  2021-08-23  2021-08-13\n",
       "4  b056b9822c2208a83eeb7150ee4be30d7088b07fed0ec5...  2021-08-23  2021-08-13"
      ]
     },
     "execution_count": 5,
     "metadata": {},
     "output_type": "execute_result"
    }
   ],
   "source": [
    "df_crd_opns = pd.read_csv('/content/drive/MyDrive/Colab Notebooks/hw2_marketing/card_openings.csv')\n",
    "df_crd_opns.head()"
   ]
  },
  {
   "cell_type": "code",
   "execution_count": 6,
   "id": "c2a70239",
   "metadata": {
    "colab": {
     "base_uri": "https://localhost:8080/",
     "height": 206
    },
    "id": "c2a70239",
    "outputId": "e3f515f8-1640-4347-a0dd-81028654913f"
   },
   "outputs": [
    {
     "data": {
      "text/html": [
       "\n",
       "  <div id=\"df-33cb7818-a11a-4ff1-9372-5cba7f91ba6a\">\n",
       "    <div class=\"colab-df-container\">\n",
       "      <div>\n",
       "<style scoped>\n",
       "    .dataframe tbody tr th:only-of-type {\n",
       "        vertical-align: middle;\n",
       "    }\n",
       "\n",
       "    .dataframe tbody tr th {\n",
       "        vertical-align: top;\n",
       "    }\n",
       "\n",
       "    .dataframe thead th {\n",
       "        text-align: right;\n",
       "    }\n",
       "</style>\n",
       "<table border=\"1\" class=\"dataframe\">\n",
       "  <thead>\n",
       "    <tr style=\"text-align: right;\">\n",
       "      <th></th>\n",
       "      <th>cust_id</th>\n",
       "      <th>open_dt</th>\n",
       "      <th>contact_dt</th>\n",
       "    </tr>\n",
       "  </thead>\n",
       "  <tbody>\n",
       "    <tr>\n",
       "      <th>0</th>\n",
       "      <td>00142a5cfe4dd6ac883e4dc0ba888d6266ce99257e0825...</td>\n",
       "      <td>2021-08-26</td>\n",
       "      <td>0</td>\n",
       "    </tr>\n",
       "    <tr>\n",
       "      <th>1</th>\n",
       "      <td>00b037b74b45a2a0c9dc64b59a2587dd79dabc93e1d84b...</td>\n",
       "      <td>2021-08-12</td>\n",
       "      <td>0</td>\n",
       "    </tr>\n",
       "    <tr>\n",
       "      <th>2</th>\n",
       "      <td>00d312b7591fdc7d5607feac6ebcff5223d2162bff5248...</td>\n",
       "      <td>2021-08-26</td>\n",
       "      <td>0</td>\n",
       "    </tr>\n",
       "    <tr>\n",
       "      <th>3</th>\n",
       "      <td>01965e567e31d90ae31b5476a7bdb44b76ebf0d3950cf4...</td>\n",
       "      <td>2021-08-04</td>\n",
       "      <td>0</td>\n",
       "    </tr>\n",
       "    <tr>\n",
       "      <th>4</th>\n",
       "      <td>02a874b8110d3a04c551a88d8e35529e2faf553d8512e5...</td>\n",
       "      <td>2021-08-04</td>\n",
       "      <td>0</td>\n",
       "    </tr>\n",
       "  </tbody>\n",
       "</table>\n",
       "</div>\n",
       "      <button class=\"colab-df-convert\" onclick=\"convertToInteractive('df-33cb7818-a11a-4ff1-9372-5cba7f91ba6a')\"\n",
       "              title=\"Convert this dataframe to an interactive table.\"\n",
       "              style=\"display:none;\">\n",
       "        \n",
       "  <svg xmlns=\"http://www.w3.org/2000/svg\" height=\"24px\"viewBox=\"0 0 24 24\"\n",
       "       width=\"24px\">\n",
       "    <path d=\"M0 0h24v24H0V0z\" fill=\"none\"/>\n",
       "    <path d=\"M18.56 5.44l.94 2.06.94-2.06 2.06-.94-2.06-.94-.94-2.06-.94 2.06-2.06.94zm-11 1L8.5 8.5l.94-2.06 2.06-.94-2.06-.94L8.5 2.5l-.94 2.06-2.06.94zm10 10l.94 2.06.94-2.06 2.06-.94-2.06-.94-.94-2.06-.94 2.06-2.06.94z\"/><path d=\"M17.41 7.96l-1.37-1.37c-.4-.4-.92-.59-1.43-.59-.52 0-1.04.2-1.43.59L10.3 9.45l-7.72 7.72c-.78.78-.78 2.05 0 2.83L4 21.41c.39.39.9.59 1.41.59.51 0 1.02-.2 1.41-.59l7.78-7.78 2.81-2.81c.8-.78.8-2.07 0-2.86zM5.41 20L4 18.59l7.72-7.72 1.47 1.35L5.41 20z\"/>\n",
       "  </svg>\n",
       "      </button>\n",
       "      \n",
       "  <style>\n",
       "    .colab-df-container {\n",
       "      display:flex;\n",
       "      flex-wrap:wrap;\n",
       "      gap: 12px;\n",
       "    }\n",
       "\n",
       "    .colab-df-convert {\n",
       "      background-color: #E8F0FE;\n",
       "      border: none;\n",
       "      border-radius: 50%;\n",
       "      cursor: pointer;\n",
       "      display: none;\n",
       "      fill: #1967D2;\n",
       "      height: 32px;\n",
       "      padding: 0 0 0 0;\n",
       "      width: 32px;\n",
       "    }\n",
       "\n",
       "    .colab-df-convert:hover {\n",
       "      background-color: #E2EBFA;\n",
       "      box-shadow: 0px 1px 2px rgba(60, 64, 67, 0.3), 0px 1px 3px 1px rgba(60, 64, 67, 0.15);\n",
       "      fill: #174EA6;\n",
       "    }\n",
       "\n",
       "    [theme=dark] .colab-df-convert {\n",
       "      background-color: #3B4455;\n",
       "      fill: #D2E3FC;\n",
       "    }\n",
       "\n",
       "    [theme=dark] .colab-df-convert:hover {\n",
       "      background-color: #434B5C;\n",
       "      box-shadow: 0px 1px 3px 1px rgba(0, 0, 0, 0.15);\n",
       "      filter: drop-shadow(0px 1px 2px rgba(0, 0, 0, 0.3));\n",
       "      fill: #FFFFFF;\n",
       "    }\n",
       "  </style>\n",
       "\n",
       "      <script>\n",
       "        const buttonEl =\n",
       "          document.querySelector('#df-33cb7818-a11a-4ff1-9372-5cba7f91ba6a button.colab-df-convert');\n",
       "        buttonEl.style.display =\n",
       "          google.colab.kernel.accessAllowed ? 'block' : 'none';\n",
       "\n",
       "        async function convertToInteractive(key) {\n",
       "          const element = document.querySelector('#df-33cb7818-a11a-4ff1-9372-5cba7f91ba6a');\n",
       "          const dataTable =\n",
       "            await google.colab.kernel.invokeFunction('convertToInteractive',\n",
       "                                                     [key], {});\n",
       "          if (!dataTable) return;\n",
       "\n",
       "          const docLinkHtml = 'Like what you see? Visit the ' +\n",
       "            '<a target=\"_blank\" href=https://colab.research.google.com/notebooks/data_table.ipynb>data table notebook</a>'\n",
       "            + ' to learn more about interactive tables.';\n",
       "          element.innerHTML = '';\n",
       "          dataTable['output_type'] = 'display_data';\n",
       "          await google.colab.output.renderOutput(dataTable, element);\n",
       "          const docLink = document.createElement('div');\n",
       "          docLink.innerHTML = docLinkHtml;\n",
       "          element.appendChild(docLink);\n",
       "        }\n",
       "      </script>\n",
       "    </div>\n",
       "  </div>\n",
       "  "
      ],
      "text/plain": [
       "                                             cust_id     open_dt  contact_dt\n",
       "0  00142a5cfe4dd6ac883e4dc0ba888d6266ce99257e0825...  2021-08-26           0\n",
       "1  00b037b74b45a2a0c9dc64b59a2587dd79dabc93e1d84b...  2021-08-12           0\n",
       "2  00d312b7591fdc7d5607feac6ebcff5223d2162bff5248...  2021-08-26           0\n",
       "3  01965e567e31d90ae31b5476a7bdb44b76ebf0d3950cf4...  2021-08-04           0\n",
       "4  02a874b8110d3a04c551a88d8e35529e2faf553d8512e5...  2021-08-04           0"
      ]
     },
     "execution_count": 6,
     "metadata": {},
     "output_type": "execute_result"
    }
   ],
   "source": [
    "df_crd_opns_no = pd.read_csv('/content/drive/MyDrive/Colab Notebooks/hw2_marketing/card_openings_non_participants.csv')\n",
    "df_crd_opns_no.head()"
   ]
  },
  {
   "cell_type": "code",
   "execution_count": 7,
   "id": "171dac06",
   "metadata": {
    "colab": {
     "base_uri": "https://localhost:8080/",
     "height": 206
    },
    "id": "171dac06",
    "outputId": "37125592-fa41-4e78-aa3e-fa085f003abf"
   },
   "outputs": [
    {
     "data": {
      "text/html": [
       "\n",
       "  <div id=\"df-fad805c6-a1e5-44f3-9d35-ffdf87d08c33\">\n",
       "    <div class=\"colab-df-container\">\n",
       "      <div>\n",
       "<style scoped>\n",
       "    .dataframe tbody tr th:only-of-type {\n",
       "        vertical-align: middle;\n",
       "    }\n",
       "\n",
       "    .dataframe tbody tr th {\n",
       "        vertical-align: top;\n",
       "    }\n",
       "\n",
       "    .dataframe thead th {\n",
       "        text-align: right;\n",
       "    }\n",
       "</style>\n",
       "<table border=\"1\" class=\"dataframe\">\n",
       "  <thead>\n",
       "    <tr style=\"text-align: right;\">\n",
       "      <th></th>\n",
       "      <th>cust_id</th>\n",
       "      <th>transaction_dt</th>\n",
       "      <th>mcc_id</th>\n",
       "      <th>txn_sum</th>\n",
       "    </tr>\n",
       "  </thead>\n",
       "  <tbody>\n",
       "    <tr>\n",
       "      <th>0</th>\n",
       "      <td>db5e62076fad2729571f211d7ca4d5be1ba71e7563efbb...</td>\n",
       "      <td>2021-09-09</td>\n",
       "      <td>5399</td>\n",
       "      <td>2322.00</td>\n",
       "    </tr>\n",
       "    <tr>\n",
       "      <th>1</th>\n",
       "      <td>9fc01d326a0adcb9caaabe298064b8a26aa711878cf89f...</td>\n",
       "      <td>2021-09-07</td>\n",
       "      <td>5533</td>\n",
       "      <td>1245.00</td>\n",
       "    </tr>\n",
       "    <tr>\n",
       "      <th>2</th>\n",
       "      <td>7afcb430aaf9baa1786d36ffcdf3efec0f4f6fe41b32fc...</td>\n",
       "      <td>2021-08-30</td>\n",
       "      <td>5921</td>\n",
       "      <td>29.99</td>\n",
       "    </tr>\n",
       "    <tr>\n",
       "      <th>3</th>\n",
       "      <td>79a2d16cd93c5d15120f30f4a6a0b39060f6cdde7486c8...</td>\n",
       "      <td>2021-09-04</td>\n",
       "      <td>5211</td>\n",
       "      <td>110.00</td>\n",
       "    </tr>\n",
       "    <tr>\n",
       "      <th>4</th>\n",
       "      <td>0c10b18ba26cb55e4b1aed9146cf359d034fa872feeba6...</td>\n",
       "      <td>2021-08-31</td>\n",
       "      <td>5441</td>\n",
       "      <td>45.00</td>\n",
       "    </tr>\n",
       "  </tbody>\n",
       "</table>\n",
       "</div>\n",
       "      <button class=\"colab-df-convert\" onclick=\"convertToInteractive('df-fad805c6-a1e5-44f3-9d35-ffdf87d08c33')\"\n",
       "              title=\"Convert this dataframe to an interactive table.\"\n",
       "              style=\"display:none;\">\n",
       "        \n",
       "  <svg xmlns=\"http://www.w3.org/2000/svg\" height=\"24px\"viewBox=\"0 0 24 24\"\n",
       "       width=\"24px\">\n",
       "    <path d=\"M0 0h24v24H0V0z\" fill=\"none\"/>\n",
       "    <path d=\"M18.56 5.44l.94 2.06.94-2.06 2.06-.94-2.06-.94-.94-2.06-.94 2.06-2.06.94zm-11 1L8.5 8.5l.94-2.06 2.06-.94-2.06-.94L8.5 2.5l-.94 2.06-2.06.94zm10 10l.94 2.06.94-2.06 2.06-.94-2.06-.94-.94-2.06-.94 2.06-2.06.94z\"/><path d=\"M17.41 7.96l-1.37-1.37c-.4-.4-.92-.59-1.43-.59-.52 0-1.04.2-1.43.59L10.3 9.45l-7.72 7.72c-.78.78-.78 2.05 0 2.83L4 21.41c.39.39.9.59 1.41.59.51 0 1.02-.2 1.41-.59l7.78-7.78 2.81-2.81c.8-.78.8-2.07 0-2.86zM5.41 20L4 18.59l7.72-7.72 1.47 1.35L5.41 20z\"/>\n",
       "  </svg>\n",
       "      </button>\n",
       "      \n",
       "  <style>\n",
       "    .colab-df-container {\n",
       "      display:flex;\n",
       "      flex-wrap:wrap;\n",
       "      gap: 12px;\n",
       "    }\n",
       "\n",
       "    .colab-df-convert {\n",
       "      background-color: #E8F0FE;\n",
       "      border: none;\n",
       "      border-radius: 50%;\n",
       "      cursor: pointer;\n",
       "      display: none;\n",
       "      fill: #1967D2;\n",
       "      height: 32px;\n",
       "      padding: 0 0 0 0;\n",
       "      width: 32px;\n",
       "    }\n",
       "\n",
       "    .colab-df-convert:hover {\n",
       "      background-color: #E2EBFA;\n",
       "      box-shadow: 0px 1px 2px rgba(60, 64, 67, 0.3), 0px 1px 3px 1px rgba(60, 64, 67, 0.15);\n",
       "      fill: #174EA6;\n",
       "    }\n",
       "\n",
       "    [theme=dark] .colab-df-convert {\n",
       "      background-color: #3B4455;\n",
       "      fill: #D2E3FC;\n",
       "    }\n",
       "\n",
       "    [theme=dark] .colab-df-convert:hover {\n",
       "      background-color: #434B5C;\n",
       "      box-shadow: 0px 1px 3px 1px rgba(0, 0, 0, 0.15);\n",
       "      filter: drop-shadow(0px 1px 2px rgba(0, 0, 0, 0.3));\n",
       "      fill: #FFFFFF;\n",
       "    }\n",
       "  </style>\n",
       "\n",
       "      <script>\n",
       "        const buttonEl =\n",
       "          document.querySelector('#df-fad805c6-a1e5-44f3-9d35-ffdf87d08c33 button.colab-df-convert');\n",
       "        buttonEl.style.display =\n",
       "          google.colab.kernel.accessAllowed ? 'block' : 'none';\n",
       "\n",
       "        async function convertToInteractive(key) {\n",
       "          const element = document.querySelector('#df-fad805c6-a1e5-44f3-9d35-ffdf87d08c33');\n",
       "          const dataTable =\n",
       "            await google.colab.kernel.invokeFunction('convertToInteractive',\n",
       "                                                     [key], {});\n",
       "          if (!dataTable) return;\n",
       "\n",
       "          const docLinkHtml = 'Like what you see? Visit the ' +\n",
       "            '<a target=\"_blank\" href=https://colab.research.google.com/notebooks/data_table.ipynb>data table notebook</a>'\n",
       "            + ' to learn more about interactive tables.';\n",
       "          element.innerHTML = '';\n",
       "          dataTable['output_type'] = 'display_data';\n",
       "          await google.colab.output.renderOutput(dataTable, element);\n",
       "          const docLink = document.createElement('div');\n",
       "          docLink.innerHTML = docLinkHtml;\n",
       "          element.appendChild(docLink);\n",
       "        }\n",
       "      </script>\n",
       "    </div>\n",
       "  </div>\n",
       "  "
      ],
      "text/plain": [
       "                                             cust_id transaction_dt  mcc_id  \\\n",
       "0  db5e62076fad2729571f211d7ca4d5be1ba71e7563efbb...     2021-09-09    5399   \n",
       "1  9fc01d326a0adcb9caaabe298064b8a26aa711878cf89f...     2021-09-07    5533   \n",
       "2  7afcb430aaf9baa1786d36ffcdf3efec0f4f6fe41b32fc...     2021-08-30    5921   \n",
       "3  79a2d16cd93c5d15120f30f4a6a0b39060f6cdde7486c8...     2021-09-04    5211   \n",
       "4  0c10b18ba26cb55e4b1aed9146cf359d034fa872feeba6...     2021-08-31    5441   \n",
       "\n",
       "   txn_sum  \n",
       "0  2322.00  \n",
       "1  1245.00  \n",
       "2    29.99  \n",
       "3   110.00  \n",
       "4    45.00  "
      ]
     },
     "execution_count": 7,
     "metadata": {},
     "output_type": "execute_result"
    }
   ],
   "source": [
    "df_trans = pd.read_csv('/content/drive/MyDrive/Colab Notebooks/hw2_marketing/visa_transactions.csv')\n",
    "df_trans.head()"
   ]
  },
  {
   "cell_type": "code",
   "execution_count": 8,
   "id": "cfe50125",
   "metadata": {
    "colab": {
     "base_uri": "https://localhost:8080/",
     "height": 206
    },
    "id": "cfe50125",
    "outputId": "9d89f1bf-a89e-41cf-a6c5-9fb4b552473f"
   },
   "outputs": [
    {
     "data": {
      "text/html": [
       "\n",
       "  <div id=\"df-ca0d9c3c-f819-42ba-9cdd-888a92e5633d\">\n",
       "    <div class=\"colab-df-container\">\n",
       "      <div>\n",
       "<style scoped>\n",
       "    .dataframe tbody tr th:only-of-type {\n",
       "        vertical-align: middle;\n",
       "    }\n",
       "\n",
       "    .dataframe tbody tr th {\n",
       "        vertical-align: top;\n",
       "    }\n",
       "\n",
       "    .dataframe thead th {\n",
       "        text-align: right;\n",
       "    }\n",
       "</style>\n",
       "<table border=\"1\" class=\"dataframe\">\n",
       "  <thead>\n",
       "    <tr style=\"text-align: right;\">\n",
       "      <th></th>\n",
       "      <th>cust_id</th>\n",
       "      <th>transaction_dt</th>\n",
       "      <th>mcc_id</th>\n",
       "      <th>txn_sum</th>\n",
       "    </tr>\n",
       "  </thead>\n",
       "  <tbody>\n",
       "    <tr>\n",
       "      <th>0</th>\n",
       "      <td>7ab840dd10c9eec7ba477160c74eaff315746f5db370c9...</td>\n",
       "      <td>2021-08-28</td>\n",
       "      <td>5499</td>\n",
       "      <td>645.00</td>\n",
       "    </tr>\n",
       "    <tr>\n",
       "      <th>1</th>\n",
       "      <td>b920f5f439d996cb87ff138610bd123bcd03dae7bc4602...</td>\n",
       "      <td>2021-09-15</td>\n",
       "      <td>5921</td>\n",
       "      <td>304.56</td>\n",
       "    </tr>\n",
       "    <tr>\n",
       "      <th>2</th>\n",
       "      <td>e14bc4726c13b92a503e2089654a4abf05f1ce9effee52...</td>\n",
       "      <td>2021-09-09</td>\n",
       "      <td>5912</td>\n",
       "      <td>1249.40</td>\n",
       "    </tr>\n",
       "    <tr>\n",
       "      <th>3</th>\n",
       "      <td>a6d6a39ca52e7e1b6743274c94c1ed3b1ec06d7a726a51...</td>\n",
       "      <td>2021-08-30</td>\n",
       "      <td>5411</td>\n",
       "      <td>346.27</td>\n",
       "    </tr>\n",
       "    <tr>\n",
       "      <th>4</th>\n",
       "      <td>380a3ce00a9dff9daccb414c20dcc82c30100c23f23265...</td>\n",
       "      <td>2021-08-21</td>\n",
       "      <td>5812</td>\n",
       "      <td>35.00</td>\n",
       "    </tr>\n",
       "  </tbody>\n",
       "</table>\n",
       "</div>\n",
       "      <button class=\"colab-df-convert\" onclick=\"convertToInteractive('df-ca0d9c3c-f819-42ba-9cdd-888a92e5633d')\"\n",
       "              title=\"Convert this dataframe to an interactive table.\"\n",
       "              style=\"display:none;\">\n",
       "        \n",
       "  <svg xmlns=\"http://www.w3.org/2000/svg\" height=\"24px\"viewBox=\"0 0 24 24\"\n",
       "       width=\"24px\">\n",
       "    <path d=\"M0 0h24v24H0V0z\" fill=\"none\"/>\n",
       "    <path d=\"M18.56 5.44l.94 2.06.94-2.06 2.06-.94-2.06-.94-.94-2.06-.94 2.06-2.06.94zm-11 1L8.5 8.5l.94-2.06 2.06-.94-2.06-.94L8.5 2.5l-.94 2.06-2.06.94zm10 10l.94 2.06.94-2.06 2.06-.94-2.06-.94-.94-2.06-.94 2.06-2.06.94z\"/><path d=\"M17.41 7.96l-1.37-1.37c-.4-.4-.92-.59-1.43-.59-.52 0-1.04.2-1.43.59L10.3 9.45l-7.72 7.72c-.78.78-.78 2.05 0 2.83L4 21.41c.39.39.9.59 1.41.59.51 0 1.02-.2 1.41-.59l7.78-7.78 2.81-2.81c.8-.78.8-2.07 0-2.86zM5.41 20L4 18.59l7.72-7.72 1.47 1.35L5.41 20z\"/>\n",
       "  </svg>\n",
       "      </button>\n",
       "      \n",
       "  <style>\n",
       "    .colab-df-container {\n",
       "      display:flex;\n",
       "      flex-wrap:wrap;\n",
       "      gap: 12px;\n",
       "    }\n",
       "\n",
       "    .colab-df-convert {\n",
       "      background-color: #E8F0FE;\n",
       "      border: none;\n",
       "      border-radius: 50%;\n",
       "      cursor: pointer;\n",
       "      display: none;\n",
       "      fill: #1967D2;\n",
       "      height: 32px;\n",
       "      padding: 0 0 0 0;\n",
       "      width: 32px;\n",
       "    }\n",
       "\n",
       "    .colab-df-convert:hover {\n",
       "      background-color: #E2EBFA;\n",
       "      box-shadow: 0px 1px 2px rgba(60, 64, 67, 0.3), 0px 1px 3px 1px rgba(60, 64, 67, 0.15);\n",
       "      fill: #174EA6;\n",
       "    }\n",
       "\n",
       "    [theme=dark] .colab-df-convert {\n",
       "      background-color: #3B4455;\n",
       "      fill: #D2E3FC;\n",
       "    }\n",
       "\n",
       "    [theme=dark] .colab-df-convert:hover {\n",
       "      background-color: #434B5C;\n",
       "      box-shadow: 0px 1px 3px 1px rgba(0, 0, 0, 0.15);\n",
       "      filter: drop-shadow(0px 1px 2px rgba(0, 0, 0, 0.3));\n",
       "      fill: #FFFFFF;\n",
       "    }\n",
       "  </style>\n",
       "\n",
       "      <script>\n",
       "        const buttonEl =\n",
       "          document.querySelector('#df-ca0d9c3c-f819-42ba-9cdd-888a92e5633d button.colab-df-convert');\n",
       "        buttonEl.style.display =\n",
       "          google.colab.kernel.accessAllowed ? 'block' : 'none';\n",
       "\n",
       "        async function convertToInteractive(key) {\n",
       "          const element = document.querySelector('#df-ca0d9c3c-f819-42ba-9cdd-888a92e5633d');\n",
       "          const dataTable =\n",
       "            await google.colab.kernel.invokeFunction('convertToInteractive',\n",
       "                                                     [key], {});\n",
       "          if (!dataTable) return;\n",
       "\n",
       "          const docLinkHtml = 'Like what you see? Visit the ' +\n",
       "            '<a target=\"_blank\" href=https://colab.research.google.com/notebooks/data_table.ipynb>data table notebook</a>'\n",
       "            + ' to learn more about interactive tables.';\n",
       "          element.innerHTML = '';\n",
       "          dataTable['output_type'] = 'display_data';\n",
       "          await google.colab.output.renderOutput(dataTable, element);\n",
       "          const docLink = document.createElement('div');\n",
       "          docLink.innerHTML = docLinkHtml;\n",
       "          element.appendChild(docLink);\n",
       "        }\n",
       "      </script>\n",
       "    </div>\n",
       "  </div>\n",
       "  "
      ],
      "text/plain": [
       "                                             cust_id transaction_dt  mcc_id  \\\n",
       "0  7ab840dd10c9eec7ba477160c74eaff315746f5db370c9...     2021-08-28    5499   \n",
       "1  b920f5f439d996cb87ff138610bd123bcd03dae7bc4602...     2021-09-15    5921   \n",
       "2  e14bc4726c13b92a503e2089654a4abf05f1ce9effee52...     2021-09-09    5912   \n",
       "3  a6d6a39ca52e7e1b6743274c94c1ed3b1ec06d7a726a51...     2021-08-30    5411   \n",
       "4  380a3ce00a9dff9daccb414c20dcc82c30100c23f23265...     2021-08-21    5812   \n",
       "\n",
       "   txn_sum  \n",
       "0   645.00  \n",
       "1   304.56  \n",
       "2  1249.40  \n",
       "3   346.27  \n",
       "4    35.00  "
      ]
     },
     "execution_count": 8,
     "metadata": {},
     "output_type": "execute_result"
    }
   ],
   "source": [
    "df_trans_no = pd.read_csv('/content/drive/MyDrive/Colab Notebooks/hw2_marketing/visa_transactions_non_particip.csv')\n",
    "df_trans_no.head()"
   ]
  },
  {
   "cell_type": "code",
   "execution_count": 9,
   "id": "ad54ff07",
   "metadata": {
    "colab": {
     "base_uri": "https://localhost:8080/"
    },
    "id": "ad54ff07",
    "outputId": "330acdc1-5e02-4187-c48a-d24fab528465"
   },
   "outputs": [
    {
     "name": "stdout",
     "output_type": "stream",
     "text": [
      "+--------------------+----------+--------------------+----------+--------------+------+------+\n",
      "|             cust_id|  mnth_gen|            turnover|involve_cd|client_segment|gender|age_gr|\n",
      "+--------------------+----------+--------------------+----------+--------------+------+------+\n",
      "|ad767176b86d500e5...|2021-06-01|17764.83000000000...|         1|          MASS|     F| 25-40|\n",
      "|cc7c069e1866b0e14...|2021-06-01|18817.45000000000...|         1|          MASS|     M| 25-40|\n",
      "|914c9e80623d8fdec...|2021-01-01|19198.74000000000...|         1|     MVS LIGHT|     F| 25-40|\n",
      "|e45e78863f239d393...|2021-04-01|114637.5400000000...|         1|     MVS UPPER|     F| 40-60|\n",
      "|2201a68b8c83f098a...|2021-07-01|112603.0100000000...|         0|     MVS LIGHT|     F| 25-40|\n",
      "|7b7829394d7897140...|2021-01-01|17576.22000000000...|         1|     MVS LIGHT|     F| 40-60|\n",
      "|ecad93826320a5980...|2021-07-01|120845.4500000000...|         0|     MVS UPPER|     M| 40-60|\n",
      "|96c63552c78c342a4...|2021-03-01|5878.500000000000...|         0|          MASS|     F| 25-40|\n",
      "|6b13c0fed87df6302...|2021-01-01|16811.72000000000...|         1|          MASS|     M| 25-40|\n",
      "|92d849680c062d784...|2021-02-01|43986.04000000000...|         1|     MVS LIGHT|     M| 25-40|\n",
      "|805ec50515849f58f...|2021-06-01|57148.94000000000...|         1|     MVS UPPER|     F| 25-40|\n",
      "|f823a0e07a76eab9c...|2021-02-01|10652.69000000000...|         1|          MASS|     F|   <25|\n",
      "|375bc3278f1131f8e...|2021-09-01|10636.22000000000...|         0|          MASS|     F| 40-60|\n",
      "|a463b6daac57d4452...|2021-10-01|14692.53000000000...|         0|          MASS|     M| 25-40|\n",
      "|3044299811ba2bc97...|2021-05-01|33803.45000000000...|         0|     MVS LIGHT|     F| 25-40|\n",
      "|acdb9efe9dd1def78...|2021-09-01|13673.60000000000...|         0|          MASS|     M|   60+|\n",
      "|4ee935372f0b89547...|2021-06-01|41083.86000000000...|         1|     MVS UPPER|     M| 25-40|\n",
      "|bbec1eb17cc86349e...|2021-02-01|41794.04000000000...|         1|          MASS|     M|   60+|\n",
      "|5b0bd6c2c31347b70...|2021-06-01|11092.70000000000...|         1|          MASS|     F| 25-40|\n",
      "|1ae420a1a79ab0abb...|2021-07-01|16690.15000000000...|         0|          MASS|     F| 40-60|\n",
      "+--------------------+----------+--------------------+----------+--------------+------+------+\n",
      "only showing top 20 rows\n",
      "\n"
     ]
    }
   ],
   "source": [
    "df_ftrs = spark.read.option(\"header\", True).csv('/content/drive/MyDrive/Colab Notebooks/hw2_marketing/features.csv')\n",
    "df_ftrs.show()"
   ]
  },
  {
   "cell_type": "markdown",
   "id": "09f1e6ef",
   "metadata": {
    "id": "09f1e6ef"
   },
   "source": [
    "### 1. Make the data preprocessing (1 point)"
   ]
  },
  {
   "cell_type": "code",
   "execution_count": 10,
   "id": "7bb68b64",
   "metadata": {
    "id": "7bb68b64"
   },
   "outputs": [],
   "source": [
    "def missing_values_table(df):\n",
    "    mis_val = df.isnull().sum()\n",
    "    mis_val_percent = 100 * df.isnull().sum() / len(df)\n",
    "    mis_val_table = pd.concat([mis_val, mis_val_percent], axis=1)\n",
    "    mis_val_table_ren_columns = mis_val_table.rename(\n",
    "    columns = {0 : 'Misses', 1 : '% from all data'})\n",
    "    mis_val_table_ren_columns = mis_val_table_ren_columns[\n",
    "        mis_val_table_ren_columns.iloc[:,1] != 0].sort_values(\n",
    "    '% from all data', ascending=False).round(1)\n",
    "    print (\"Dataframe contains \" + str(df.shape[1]) + \" columns.\\n\"      \n",
    "        \"Overall \" + str(mis_val_table_ren_columns.shape[0]) +\n",
    "          \" columns with missing values.\")\n",
    "    return mis_val_table_ren_columns"
   ]
  },
  {
   "cell_type": "code",
   "execution_count": 11,
   "id": "7dd0be0b",
   "metadata": {
    "colab": {
     "base_uri": "https://localhost:8080/",
     "height": 86
    },
    "id": "7dd0be0b",
    "outputId": "c42b1c8d-9adf-425c-b574-be5117e92e68"
   },
   "outputs": [
    {
     "name": "stdout",
     "output_type": "stream",
     "text": [
      "Dataframe contains 9 columns.\n",
      "Overall 0 columns with missing values.\n"
     ]
    },
    {
     "data": {
      "text/html": [
       "<style type=\"text/css\">\n",
       "</style>\n",
       "<table id=\"T_ff433_\" class=\"dataframe\">\n",
       "  <thead>\n",
       "    <tr>\n",
       "      <th class=\"blank level0\" >&nbsp;</th>\n",
       "      <th class=\"col_heading level0 col0\" >Misses</th>\n",
       "      <th class=\"col_heading level0 col1\" >% from all data</th>\n",
       "    </tr>\n",
       "  </thead>\n",
       "  <tbody>\n",
       "  </tbody>\n",
       "</table>\n"
      ],
      "text/plain": [
       "<pandas.io.formats.style.Styler at 0x7fd6ac90ad60>"
      ]
     },
     "execution_count": 11,
     "metadata": {},
     "output_type": "execute_result"
    }
   ],
   "source": [
    "missing_values_table(df_visa_comms).style.background_gradient(cmap='Reds')"
   ]
  },
  {
   "cell_type": "code",
   "execution_count": 12,
   "id": "35275250",
   "metadata": {
    "colab": {
     "base_uri": "https://localhost:8080/",
     "height": 86
    },
    "id": "35275250",
    "outputId": "25540880-e432-472e-d7f1-df7569301bf6"
   },
   "outputs": [
    {
     "name": "stdout",
     "output_type": "stream",
     "text": [
      "Dataframe contains 3 columns.\n",
      "Overall 0 columns with missing values.\n"
     ]
    },
    {
     "data": {
      "text/html": [
       "<style type=\"text/css\">\n",
       "</style>\n",
       "<table id=\"T_f7e3d_\" class=\"dataframe\">\n",
       "  <thead>\n",
       "    <tr>\n",
       "      <th class=\"blank level0\" >&nbsp;</th>\n",
       "      <th class=\"col_heading level0 col0\" >Misses</th>\n",
       "      <th class=\"col_heading level0 col1\" >% from all data</th>\n",
       "    </tr>\n",
       "  </thead>\n",
       "  <tbody>\n",
       "  </tbody>\n",
       "</table>\n"
      ],
      "text/plain": [
       "<pandas.io.formats.style.Styler at 0x7fd6ab868550>"
      ]
     },
     "execution_count": 12,
     "metadata": {},
     "output_type": "execute_result"
    }
   ],
   "source": [
    "missing_values_table(df_crd_opns).style.background_gradient(cmap='Reds')"
   ]
  },
  {
   "cell_type": "code",
   "execution_count": 13,
   "id": "59fe45d3",
   "metadata": {
    "colab": {
     "base_uri": "https://localhost:8080/",
     "height": 86
    },
    "id": "59fe45d3",
    "outputId": "29e70283-29af-4cd6-b2f1-858e95965c0f"
   },
   "outputs": [
    {
     "name": "stdout",
     "output_type": "stream",
     "text": [
      "Dataframe contains 3 columns.\n",
      "Overall 0 columns with missing values.\n"
     ]
    },
    {
     "data": {
      "text/html": [
       "<style type=\"text/css\">\n",
       "</style>\n",
       "<table id=\"T_fcfb1_\" class=\"dataframe\">\n",
       "  <thead>\n",
       "    <tr>\n",
       "      <th class=\"blank level0\" >&nbsp;</th>\n",
       "      <th class=\"col_heading level0 col0\" >Misses</th>\n",
       "      <th class=\"col_heading level0 col1\" >% from all data</th>\n",
       "    </tr>\n",
       "  </thead>\n",
       "  <tbody>\n",
       "  </tbody>\n",
       "</table>\n"
      ],
      "text/plain": [
       "<pandas.io.formats.style.Styler at 0x7fd6923aa880>"
      ]
     },
     "execution_count": 13,
     "metadata": {},
     "output_type": "execute_result"
    }
   ],
   "source": [
    "missing_values_table(df_crd_opns_no).style.background_gradient(cmap='Reds')"
   ]
  },
  {
   "cell_type": "code",
   "execution_count": 14,
   "id": "d132c0bd",
   "metadata": {
    "colab": {
     "base_uri": "https://localhost:8080/",
     "height": 86
    },
    "id": "d132c0bd",
    "outputId": "eae04ab7-d473-436f-f446-fd929b467b72"
   },
   "outputs": [
    {
     "name": "stdout",
     "output_type": "stream",
     "text": [
      "Dataframe contains 4 columns.\n",
      "Overall 0 columns with missing values.\n"
     ]
    },
    {
     "data": {
      "text/html": [
       "<style type=\"text/css\">\n",
       "</style>\n",
       "<table id=\"T_1a565_\" class=\"dataframe\">\n",
       "  <thead>\n",
       "    <tr>\n",
       "      <th class=\"blank level0\" >&nbsp;</th>\n",
       "      <th class=\"col_heading level0 col0\" >Misses</th>\n",
       "      <th class=\"col_heading level0 col1\" >% from all data</th>\n",
       "    </tr>\n",
       "  </thead>\n",
       "  <tbody>\n",
       "  </tbody>\n",
       "</table>\n"
      ],
      "text/plain": [
       "<pandas.io.formats.style.Styler at 0x7fd6932fceb0>"
      ]
     },
     "execution_count": 14,
     "metadata": {},
     "output_type": "execute_result"
    }
   ],
   "source": [
    "missing_values_table(df_trans).style.background_gradient(cmap='Reds')"
   ]
  },
  {
   "cell_type": "code",
   "execution_count": 15,
   "id": "4df38ee0",
   "metadata": {
    "colab": {
     "base_uri": "https://localhost:8080/",
     "height": 86
    },
    "id": "4df38ee0",
    "outputId": "b91c57d6-ec95-4fc0-f8c1-e7188154109b"
   },
   "outputs": [
    {
     "name": "stdout",
     "output_type": "stream",
     "text": [
      "Dataframe contains 4 columns.\n",
      "Overall 0 columns with missing values.\n"
     ]
    },
    {
     "data": {
      "text/html": [
       "<style type=\"text/css\">\n",
       "</style>\n",
       "<table id=\"T_ba7ac_\" class=\"dataframe\">\n",
       "  <thead>\n",
       "    <tr>\n",
       "      <th class=\"blank level0\" >&nbsp;</th>\n",
       "      <th class=\"col_heading level0 col0\" >Misses</th>\n",
       "      <th class=\"col_heading level0 col1\" >% from all data</th>\n",
       "    </tr>\n",
       "  </thead>\n",
       "  <tbody>\n",
       "  </tbody>\n",
       "</table>\n"
      ],
      "text/plain": [
       "<pandas.io.formats.style.Styler at 0x7fd6932fcfd0>"
      ]
     },
     "execution_count": 15,
     "metadata": {},
     "output_type": "execute_result"
    }
   ],
   "source": [
    "missing_values_table(df_trans_no).style.background_gradient(cmap='Reds')"
   ]
  },
  {
   "cell_type": "code",
   "execution_count": 16,
   "id": "22f30e36",
   "metadata": {
    "colab": {
     "base_uri": "https://localhost:8080/",
     "height": 86
    },
    "id": "22f30e36",
    "outputId": "ab04a5fe-ce70-4ed1-81fc-6b2600d3b432"
   },
   "outputs": [
    {
     "name": "stdout",
     "output_type": "stream",
     "text": [
      "Dataframe contains 7 columns.\n",
      "Overall 0 columns with missing values.\n"
     ]
    },
    {
     "data": {
      "text/html": [
       "<style type=\"text/css\">\n",
       "</style>\n",
       "<table id=\"T_0904f_\" class=\"dataframe\">\n",
       "  <thead>\n",
       "    <tr>\n",
       "      <th class=\"blank level0\" >&nbsp;</th>\n",
       "      <th class=\"col_heading level0 col0\" >Misses</th>\n",
       "      <th class=\"col_heading level0 col1\" >% from all data</th>\n",
       "    </tr>\n",
       "  </thead>\n",
       "  <tbody>\n",
       "  </tbody>\n",
       "</table>\n"
      ],
      "text/plain": [
       "<pandas.io.formats.style.Styler at 0x7fd6ab8682b0>"
      ]
     },
     "execution_count": 16,
     "metadata": {},
     "output_type": "execute_result"
    }
   ],
   "source": [
    "missing_values_table(df_ftrs.limit(100000).toPandas()).style.background_gradient(cmap='Reds')"
   ]
  },
  {
   "cell_type": "code",
   "execution_count": 17,
   "id": "4b06b15e",
   "metadata": {
    "colab": {
     "base_uri": "https://localhost:8080/",
     "height": 464
    },
    "id": "4b06b15e",
    "outputId": "c7a6e5c9-7087-4477-f3eb-40eeae3b0a85"
   },
   "outputs": [
    {
     "name": "stdout",
     "output_type": "stream",
     "text": [
      "Shape of DF (df_ftrs) : 31418100\n",
      "<class 'pandas.core.frame.DataFrame'>\n",
      "RangeIndex: 1000 entries, 0 to 999\n",
      "Data columns (total 7 columns):\n",
      " #   Column          Non-Null Count  Dtype \n",
      "---  ------          --------------  ----- \n",
      " 0   cust_id         1000 non-null   object\n",
      " 1   mnth_gen        1000 non-null   object\n",
      " 2   turnover        1000 non-null   object\n",
      " 3   involve_cd      1000 non-null   object\n",
      " 4   client_segment  1000 non-null   object\n",
      " 5   gender          1000 non-null   object\n",
      " 6   age_gr          1000 non-null   object\n",
      "dtypes: object(7)\n",
      "memory usage: 54.8+ KB\n",
      "None\n"
     ]
    },
    {
     "data": {
      "text/html": [
       "\n",
       "  <div id=\"df-3bfda17a-1cdc-42bc-bfd0-086c187f6b46\">\n",
       "    <div class=\"colab-df-container\">\n",
       "      <div>\n",
       "<style scoped>\n",
       "    .dataframe tbody tr th:only-of-type {\n",
       "        vertical-align: middle;\n",
       "    }\n",
       "\n",
       "    .dataframe tbody tr th {\n",
       "        vertical-align: top;\n",
       "    }\n",
       "\n",
       "    .dataframe thead th {\n",
       "        text-align: right;\n",
       "    }\n",
       "</style>\n",
       "<table border=\"1\" class=\"dataframe\">\n",
       "  <thead>\n",
       "    <tr style=\"text-align: right;\">\n",
       "      <th></th>\n",
       "      <th>cust_id</th>\n",
       "      <th>mnth_gen</th>\n",
       "      <th>turnover</th>\n",
       "      <th>involve_cd</th>\n",
       "      <th>client_segment</th>\n",
       "      <th>gender</th>\n",
       "      <th>age_gr</th>\n",
       "    </tr>\n",
       "  </thead>\n",
       "  <tbody>\n",
       "    <tr>\n",
       "      <th>count</th>\n",
       "      <td>1000</td>\n",
       "      <td>1000</td>\n",
       "      <td>1000</td>\n",
       "      <td>1000</td>\n",
       "      <td>1000</td>\n",
       "      <td>1000</td>\n",
       "      <td>1000</td>\n",
       "    </tr>\n",
       "    <tr>\n",
       "      <th>unique</th>\n",
       "      <td>1000</td>\n",
       "      <td>10</td>\n",
       "      <td>991</td>\n",
       "      <td>2</td>\n",
       "      <td>4</td>\n",
       "      <td>3</td>\n",
       "      <td>5</td>\n",
       "    </tr>\n",
       "    <tr>\n",
       "      <th>top</th>\n",
       "      <td>ad767176b86d500e5b8421315731388ff6c5ec93079ec9...</td>\n",
       "      <td>2021-09-01</td>\n",
       "      <td>0</td>\n",
       "      <td>1</td>\n",
       "      <td>MASS</td>\n",
       "      <td>F</td>\n",
       "      <td>25-40</td>\n",
       "    </tr>\n",
       "    <tr>\n",
       "      <th>freq</th>\n",
       "      <td>1</td>\n",
       "      <td>117</td>\n",
       "      <td>10</td>\n",
       "      <td>569</td>\n",
       "      <td>437</td>\n",
       "      <td>565</td>\n",
       "      <td>494</td>\n",
       "    </tr>\n",
       "  </tbody>\n",
       "</table>\n",
       "</div>\n",
       "      <button class=\"colab-df-convert\" onclick=\"convertToInteractive('df-3bfda17a-1cdc-42bc-bfd0-086c187f6b46')\"\n",
       "              title=\"Convert this dataframe to an interactive table.\"\n",
       "              style=\"display:none;\">\n",
       "        \n",
       "  <svg xmlns=\"http://www.w3.org/2000/svg\" height=\"24px\"viewBox=\"0 0 24 24\"\n",
       "       width=\"24px\">\n",
       "    <path d=\"M0 0h24v24H0V0z\" fill=\"none\"/>\n",
       "    <path d=\"M18.56 5.44l.94 2.06.94-2.06 2.06-.94-2.06-.94-.94-2.06-.94 2.06-2.06.94zm-11 1L8.5 8.5l.94-2.06 2.06-.94-2.06-.94L8.5 2.5l-.94 2.06-2.06.94zm10 10l.94 2.06.94-2.06 2.06-.94-2.06-.94-.94-2.06-.94 2.06-2.06.94z\"/><path d=\"M17.41 7.96l-1.37-1.37c-.4-.4-.92-.59-1.43-.59-.52 0-1.04.2-1.43.59L10.3 9.45l-7.72 7.72c-.78.78-.78 2.05 0 2.83L4 21.41c.39.39.9.59 1.41.59.51 0 1.02-.2 1.41-.59l7.78-7.78 2.81-2.81c.8-.78.8-2.07 0-2.86zM5.41 20L4 18.59l7.72-7.72 1.47 1.35L5.41 20z\"/>\n",
       "  </svg>\n",
       "      </button>\n",
       "      \n",
       "  <style>\n",
       "    .colab-df-container {\n",
       "      display:flex;\n",
       "      flex-wrap:wrap;\n",
       "      gap: 12px;\n",
       "    }\n",
       "\n",
       "    .colab-df-convert {\n",
       "      background-color: #E8F0FE;\n",
       "      border: none;\n",
       "      border-radius: 50%;\n",
       "      cursor: pointer;\n",
       "      display: none;\n",
       "      fill: #1967D2;\n",
       "      height: 32px;\n",
       "      padding: 0 0 0 0;\n",
       "      width: 32px;\n",
       "    }\n",
       "\n",
       "    .colab-df-convert:hover {\n",
       "      background-color: #E2EBFA;\n",
       "      box-shadow: 0px 1px 2px rgba(60, 64, 67, 0.3), 0px 1px 3px 1px rgba(60, 64, 67, 0.15);\n",
       "      fill: #174EA6;\n",
       "    }\n",
       "\n",
       "    [theme=dark] .colab-df-convert {\n",
       "      background-color: #3B4455;\n",
       "      fill: #D2E3FC;\n",
       "    }\n",
       "\n",
       "    [theme=dark] .colab-df-convert:hover {\n",
       "      background-color: #434B5C;\n",
       "      box-shadow: 0px 1px 3px 1px rgba(0, 0, 0, 0.15);\n",
       "      filter: drop-shadow(0px 1px 2px rgba(0, 0, 0, 0.3));\n",
       "      fill: #FFFFFF;\n",
       "    }\n",
       "  </style>\n",
       "\n",
       "      <script>\n",
       "        const buttonEl =\n",
       "          document.querySelector('#df-3bfda17a-1cdc-42bc-bfd0-086c187f6b46 button.colab-df-convert');\n",
       "        buttonEl.style.display =\n",
       "          google.colab.kernel.accessAllowed ? 'block' : 'none';\n",
       "\n",
       "        async function convertToInteractive(key) {\n",
       "          const element = document.querySelector('#df-3bfda17a-1cdc-42bc-bfd0-086c187f6b46');\n",
       "          const dataTable =\n",
       "            await google.colab.kernel.invokeFunction('convertToInteractive',\n",
       "                                                     [key], {});\n",
       "          if (!dataTable) return;\n",
       "\n",
       "          const docLinkHtml = 'Like what you see? Visit the ' +\n",
       "            '<a target=\"_blank\" href=https://colab.research.google.com/notebooks/data_table.ipynb>data table notebook</a>'\n",
       "            + ' to learn more about interactive tables.';\n",
       "          element.innerHTML = '';\n",
       "          dataTable['output_type'] = 'display_data';\n",
       "          await google.colab.output.renderOutput(dataTable, element);\n",
       "          const docLink = document.createElement('div');\n",
       "          docLink.innerHTML = docLinkHtml;\n",
       "          element.appendChild(docLink);\n",
       "        }\n",
       "      </script>\n",
       "    </div>\n",
       "  </div>\n",
       "  "
      ],
      "text/plain": [
       "                                                  cust_id    mnth_gen  \\\n",
       "count                                                1000        1000   \n",
       "unique                                               1000          10   \n",
       "top     ad767176b86d500e5b8421315731388ff6c5ec93079ec9...  2021-09-01   \n",
       "freq                                                    1         117   \n",
       "\n",
       "       turnover involve_cd client_segment gender age_gr  \n",
       "count      1000       1000           1000   1000   1000  \n",
       "unique      991          2              4      3      5  \n",
       "top           0          1           MASS      F  25-40  \n",
       "freq         10        569            437    565    494  "
      ]
     },
     "execution_count": 17,
     "metadata": {},
     "output_type": "execute_result"
    }
   ],
   "source": [
    "print(f'Shape of DF (df_ftrs) : {df_ftrs.count()}')\n",
    "print(df_ftrs.limit(1000).toPandas().info())\n",
    "df_ftrs.limit(1000).toPandas().describe()"
   ]
  },
  {
   "cell_type": "markdown",
   "id": "CaMA7b_dxAde",
   "metadata": {
    "id": "CaMA7b_dxAde"
   },
   "source": [
    "Converting date frames to pyspark"
   ]
  },
  {
   "cell_type": "code",
   "execution_count": 18,
   "id": "kb0I0UoAySf-",
   "metadata": {
    "colab": {
     "base_uri": "https://localhost:8080/"
    },
    "id": "kb0I0UoAySf-",
    "outputId": "c9317ef0-49e8-4c89-d517-e2ffd2460c0b"
   },
   "outputs": [
    {
     "name": "stdout",
     "output_type": "stream",
     "text": [
      "Shape of DF (df_visa_comms) : (1456826, 9)\n",
      "<class 'pandas.core.frame.DataFrame'>\n",
      "RangeIndex: 1456826 entries, 0 to 1456825\n",
      "Data columns (total 9 columns):\n",
      " #   Column             Non-Null Count    Dtype \n",
      "---  ------             --------------    ----- \n",
      " 0   channel_type       1456826 non-null  object\n",
      " 1   contact_dt         1456826 non-null  object\n",
      " 2   control_group_flg  1456826 non-null  int64 \n",
      " 3   sent               1456826 non-null  int64 \n",
      " 4   delivered          1456826 non-null  int64 \n",
      " 5   opened             1456826 non-null  int64 \n",
      " 6   clicked            1456826 non-null  int64 \n",
      " 7   blocked            1456826 non-null  int64 \n",
      " 8   cust_id            1456826 non-null  object\n",
      "dtypes: int64(6), object(3)\n",
      "memory usage: 100.0+ MB\n",
      "None\n",
      "       control_group_flg          sent     delivered        opened  \\\n",
      "count       1.456826e+06  1.456826e+06  1.456826e+06  1.456826e+06   \n",
      "mean        7.048199e-02  5.635889e-01  5.413014e-01  2.176272e-01   \n",
      "std         2.559577e-01  4.959401e-01  4.982914e-01  4.126327e-01   \n",
      "min         0.000000e+00  0.000000e+00  0.000000e+00  0.000000e+00   \n",
      "25%         0.000000e+00  0.000000e+00  0.000000e+00  0.000000e+00   \n",
      "50%         0.000000e+00  1.000000e+00  1.000000e+00  0.000000e+00   \n",
      "75%         0.000000e+00  1.000000e+00  1.000000e+00  0.000000e+00   \n",
      "max         1.000000e+00  1.000000e+00  1.000000e+00  1.000000e+00   \n",
      "\n",
      "            clicked       blocked  \n",
      "count  1.456826e+06  1.456826e+06  \n",
      "mean   1.674737e-02  6.932880e-05  \n",
      "std    1.283234e-01  8.326106e-03  \n",
      "min    0.000000e+00  0.000000e+00  \n",
      "25%    0.000000e+00  0.000000e+00  \n",
      "50%    0.000000e+00  0.000000e+00  \n",
      "75%    0.000000e+00  0.000000e+00  \n",
      "max    1.000000e+00  1.000000e+00  \n",
      "  channel_type contact_dt  control_group_flg  sent  delivered  opened  \\\n",
      "0        Popup 2021-08-23                  0     1          1       1   \n",
      "1        EMAIL 2021-08-12                  0     1          1       0   \n",
      "2        Popup 2021-08-11                  0     1          1       1   \n",
      "3         PUSH 2021-08-12                  0     0          0       0   \n",
      "4         PUSH 2021-08-12                  0     0          0       0   \n",
      "\n",
      "   clicked  blocked                                            cust_id  \n",
      "0        0        0  5d0a0cae173c27947838b9f3ad1282fa30771272747ede...  \n",
      "1        0        0  b70d7c45f4d1724acdba89bead5941f13d93406bcbb1d7...  \n",
      "2        0        0  1b3705d419798b8723884b643dc535ae7fc7623d6f4f7c...  \n",
      "3        0        0  0064bbbb2fd516698fd113adcabef8bb52824536512e8e...  \n",
      "4        0        0  3f0be853435987e9aff8cba237e8c19334708a996cf696...  \n",
      "root\n",
      " |-- channel_type: string (nullable = true)\n",
      " |-- contact_dt: timestamp (nullable = true)\n",
      " |-- control_group_flg: long (nullable = true)\n",
      " |-- sent: long (nullable = true)\n",
      " |-- delivered: long (nullable = true)\n",
      " |-- opened: long (nullable = true)\n",
      " |-- clicked: long (nullable = true)\n",
      " |-- blocked: long (nullable = true)\n",
      " |-- cust_id: string (nullable = true)\n",
      "\n"
     ]
    }
   ],
   "source": [
    "print(f'Shape of DF (df_visa_comms) : {df_visa_comms.shape}')\n",
    "print(df_visa_comms.info())\n",
    "print(df_visa_comms.describe())\n",
    "df_visa_comms['contact_dt'] = pd.to_datetime(df_visa_comms['contact_dt'], errors='coerce')\n",
    "print(df_visa_comms.head())\n",
    "df_visa_comms = spark.createDataFrame(df_visa_comms) \n",
    "df_visa_comms.printSchema()"
   ]
  },
  {
   "cell_type": "code",
   "execution_count": 19,
   "id": "b6be669c",
   "metadata": {
    "colab": {
     "base_uri": "https://localhost:8080/"
    },
    "id": "b6be669c",
    "outputId": "a2a09244-7d5d-42d3-ab22-3eb8694840d7"
   },
   "outputs": [
    {
     "name": "stdout",
     "output_type": "stream",
     "text": [
      "Shape of DF (df_crd_opns) : (22995, 3)\n",
      "<class 'pandas.core.frame.DataFrame'>\n",
      "RangeIndex: 22995 entries, 0 to 22994\n",
      "Data columns (total 3 columns):\n",
      " #   Column      Non-Null Count  Dtype \n",
      "---  ------      --------------  ----- \n",
      " 0   cust_id     22995 non-null  object\n",
      " 1   open_dt     22995 non-null  object\n",
      " 2   contact_dt  22995 non-null  object\n",
      "dtypes: object(3)\n",
      "memory usage: 539.1+ KB\n",
      "None\n",
      "                                                  cust_id     open_dt  \\\n",
      "count                                               22995       22995   \n",
      "unique                                              21424          21   \n",
      "top     fa4aeb57cc6f9cf63661203bfa17635e247cbca3d2c018...  2021-08-12   \n",
      "freq                                                   12        2102   \n",
      "\n",
      "        contact_dt  \n",
      "count        22995  \n",
      "unique          15  \n",
      "top     2021-08-12  \n",
      "freq         18466  \n",
      "                                             cust_id    open_dt contact_dt\n",
      "0  2537ec14c2e5b8607ea67dfe09ec687205c59ed152407f... 2021-08-19 2021-08-12\n",
      "1  b6bc9799397f07c8304673d4d51e7788a143ecb710452e... 2021-08-16 2021-08-13\n",
      "2  d09ee17e668f229697a15a940915714b838826305e6973... 2021-08-21 2021-08-13\n",
      "3  2323b4ae10e99e72160a74c5b42c38e47f2bc0692ef0a9... 2021-08-23 2021-08-13\n",
      "4  b056b9822c2208a83eeb7150ee4be30d7088b07fed0ec5... 2021-08-23 2021-08-13\n",
      "root\n",
      " |-- cust_id: string (nullable = true)\n",
      " |-- open_dt: timestamp (nullable = true)\n",
      " |-- contact_dt: timestamp (nullable = true)\n",
      "\n"
     ]
    }
   ],
   "source": [
    "print(f'Shape of DF (df_crd_opns) : {df_crd_opns.shape}')\n",
    "print(df_crd_opns.info())\n",
    "print(df_crd_opns.describe())\n",
    "df_crd_opns['open_dt'] = pd.to_datetime(df_crd_opns['open_dt'], errors='coerce')\n",
    "df_crd_opns['contact_dt'] = pd.to_datetime(df_crd_opns['contact_dt'], errors='coerce')\n",
    "print(df_crd_opns.head())\n",
    "df_crd_opns = spark.createDataFrame(df_crd_opns) \n",
    "df_crd_opns.printSchema()"
   ]
  },
  {
   "cell_type": "code",
   "execution_count": 20,
   "id": "594d7d9b",
   "metadata": {
    "colab": {
     "base_uri": "https://localhost:8080/"
    },
    "id": "594d7d9b",
    "outputId": "b8ce6057-2628-4f95-e610-611eb25aefa0"
   },
   "outputs": [
    {
     "name": "stdout",
     "output_type": "stream",
     "text": [
      "Shape of DF (df_trans) : (396564, 4)\n",
      "<class 'pandas.core.frame.DataFrame'>\n",
      "RangeIndex: 396564 entries, 0 to 396563\n",
      "Data columns (total 4 columns):\n",
      " #   Column          Non-Null Count   Dtype  \n",
      "---  ------          --------------   -----  \n",
      " 0   cust_id         396564 non-null  object \n",
      " 1   transaction_dt  396564 non-null  object \n",
      " 2   mcc_id          396564 non-null  int64  \n",
      " 3   txn_sum         396564 non-null  float64\n",
      "dtypes: float64(1), int64(1), object(2)\n",
      "memory usage: 12.1+ MB\n",
      "None\n",
      "              mcc_id       txn_sum\n",
      "count  396564.000000  3.965640e+05\n",
      "mean     5525.351963  8.075815e+02\n",
      "std       751.054988  1.451721e+04\n",
      "min       742.000000  4.000000e-02\n",
      "25%      5411.000000  1.140000e+02\n",
      "50%      5462.000000  2.678550e+02\n",
      "75%      5814.000000  6.285700e+02\n",
      "max      9998.000000  8.490000e+06\n",
      "                                             cust_id transaction_dt  mcc_id  \\\n",
      "0  db5e62076fad2729571f211d7ca4d5be1ba71e7563efbb...     2021-09-09    5399   \n",
      "1  9fc01d326a0adcb9caaabe298064b8a26aa711878cf89f...     2021-09-07    5533   \n",
      "2  7afcb430aaf9baa1786d36ffcdf3efec0f4f6fe41b32fc...     2021-08-30    5921   \n",
      "3  79a2d16cd93c5d15120f30f4a6a0b39060f6cdde7486c8...     2021-09-04    5211   \n",
      "4  0c10b18ba26cb55e4b1aed9146cf359d034fa872feeba6...     2021-08-31    5441   \n",
      "\n",
      "   txn_sum  \n",
      "0  2322.00  \n",
      "1  1245.00  \n",
      "2    29.99  \n",
      "3   110.00  \n",
      "4    45.00  \n",
      "root\n",
      " |-- cust_id: string (nullable = true)\n",
      " |-- transaction_dt: timestamp (nullable = true)\n",
      " |-- mcc_id: long (nullable = true)\n",
      " |-- txn_sum: double (nullable = true)\n",
      "\n"
     ]
    }
   ],
   "source": [
    "print(f'Shape of DF (df_trans) : {df_trans.shape}')\n",
    "print(df_trans.info())\n",
    "print(df_trans.describe())\n",
    "df_trans['transaction_dt'] = pd.to_datetime(df_trans['transaction_dt'], errors='coerce')\n",
    "print(df_trans.head())\n",
    "df_trans = spark.createDataFrame(df_trans) \n",
    "df_trans.printSchema()"
   ]
  },
  {
   "cell_type": "markdown",
   "id": "joL8SIIXRXY3",
   "metadata": {
    "id": "joL8SIIXRXY3"
   },
   "source": [
    "There were duplicate clients in the notifications based on control_group_flg"
   ]
  },
  {
   "cell_type": "code",
   "execution_count": 21,
   "id": "UyzJivYKRzQg",
   "metadata": {
    "colab": {
     "base_uri": "https://localhost:8080/"
    },
    "id": "UyzJivYKRzQg",
    "outputId": "645f477d-b6ed-4b9f-8d3c-10002c0d0472"
   },
   "outputs": [
    {
     "name": "stdout",
     "output_type": "stream",
     "text": [
      "+------------+-------------------+-----------------+----+---------+------+-------+-------+----------------------------------------------------------------+\n",
      "|channel_type|contact_dt         |control_group_flg|sent|delivered|opened|clicked|blocked|cust_id                                                         |\n",
      "+------------+-------------------+-----------------+----+---------+------+-------+-------+----------------------------------------------------------------+\n",
      "|EMAIL       |2021-08-13 00:00:00|0                |1   |1        |0     |0      |0      |804e1c3c26f33c641304b75298f8f019135d54f4e21f0bd87b2d4d474c6d5c7f|\n",
      "|EMAIL       |2021-08-12 00:00:00|1                |0   |0        |0     |0      |0      |804e1c3c26f33c641304b75298f8f019135d54f4e21f0bd87b2d4d474c6d5c7f|\n",
      "|PUSH        |2021-08-12 00:00:00|0                |0   |0        |0     |0      |0      |804e1c3c26f33c641304b75298f8f019135d54f4e21f0bd87b2d4d474c6d5c7f|\n",
      "+------------+-------------------+-----------------+----+---------+------+-------+-------+----------------------------------------------------------------+\n",
      "\n"
     ]
    }
   ],
   "source": [
    "df_visa_comms.filter(df_visa_comms.cust_id =='804e1c3c26f33c641304b75298f8f019135d54f4e21f0bd87b2d4d474c6d5c7f').show(100, False)"
   ]
  },
  {
   "cell_type": "code",
   "execution_count": 22,
   "id": "ZLQrKCdZRXNA",
   "metadata": {
    "colab": {
     "base_uri": "https://localhost:8080/"
    },
    "id": "ZLQrKCdZRXNA",
    "outputId": "3f219a47-1957-4644-bd04-ba07df61f934"
   },
   "outputs": [
    {
     "name": "stderr",
     "output_type": "stream",
     "text": [
      "/usr/local/lib/python3.8/dist-packages/pyspark/sql/dataframe.py:229: FutureWarning: Deprecated in 2.0, use createOrReplaceTempView instead.\n",
      "  warnings.warn(\"Deprecated in 2.0, use createOrReplaceTempView instead.\", FutureWarning)\n"
     ]
    },
    {
     "name": "stdout",
     "output_type": "stream",
     "text": [
      "+--------+\n",
      "|count(1)|\n",
      "+--------+\n",
      "|   21950|\n",
      "+--------+\n",
      "\n"
     ]
    }
   ],
   "source": [
    "df_visa_comms.registerTempTable(\"comms\")\n",
    "\n",
    "comms = sqlContext.sql(\"\"\"select count(*)\n",
    "                        from (SELECT cust_id , count(distinct control_group_flg) as cnt\n",
    "                            FROM comms\n",
    "                            group by cust_id\n",
    "                            having count(distinct control_group_flg) > 1\n",
    "                            ) a\n",
    "                        \"\"\")\n",
    "comms.show()"
   ]
  },
  {
   "cell_type": "markdown",
   "id": "eXQPRtGbRVYg",
   "metadata": {
    "id": "eXQPRtGbRVYg"
   },
   "source": [
    "Removing duplicate clients from all dataframes"
   ]
  },
  {
   "cell_type": "code",
   "execution_count": 23,
   "id": "QNcNDqgnRVGi",
   "metadata": {
    "colab": {
     "base_uri": "https://localhost:8080/"
    },
    "id": "QNcNDqgnRVGi",
    "outputId": "a8fda2ec-0096-4624-bd65-112508d926d8"
   },
   "outputs": [
    {
     "name": "stdout",
     "output_type": "stream",
     "text": [
      "+--------------------+-------------------+-------------------+\n",
      "|             cust_id|            open_dt|         contact_dt|\n",
      "+--------------------+-------------------+-------------------+\n",
      "|2537ec14c2e5b8607...|2021-08-19 00:00:00|2021-08-12 00:00:00|\n",
      "|b6bc9799397f07c83...|2021-08-16 00:00:00|2021-08-13 00:00:00|\n",
      "|d09ee17e668f22969...|2021-08-21 00:00:00|2021-08-13 00:00:00|\n",
      "|2323b4ae10e99e721...|2021-08-23 00:00:00|2021-08-13 00:00:00|\n",
      "|7a5665b615fce7d6d...|2021-08-18 00:00:00|2021-08-12 00:00:00|\n",
      "|08f53c97adf38bda6...|2021-08-12 00:00:00|2021-08-12 00:00:00|\n",
      "|8394c7e7466057572...|2021-08-23 00:00:00|2021-08-12 00:00:00|\n",
      "|7c2616d054c0a9940...|2021-08-19 00:00:00|2021-08-12 00:00:00|\n",
      "|bad095ff8563cb0ef...|2021-08-13 00:00:00|2021-08-12 00:00:00|\n",
      "|7e9760e1298b77617...|2021-08-17 00:00:00|2021-08-12 00:00:00|\n",
      "|df424d735cd7cfac3...|2021-08-16 00:00:00|2021-08-12 00:00:00|\n",
      "|fcc4dd1fd016837f6...|2021-08-25 00:00:00|2021-08-12 00:00:00|\n",
      "|a84d871095e1c2ac7...|2021-08-12 00:00:00|2021-08-12 00:00:00|\n",
      "|164be211937c2b6dc...|2021-08-12 00:00:00|2021-08-12 00:00:00|\n",
      "|e038fcb2f613cb93b...|2021-08-18 00:00:00|2021-08-12 00:00:00|\n",
      "|de9ba33a1f70a477e...|2021-08-12 00:00:00|2021-08-12 00:00:00|\n",
      "|759d99dcc1e34a2a3...|2021-08-14 00:00:00|2021-08-13 00:00:00|\n",
      "|c1d6fe7f20949f08f...|2021-08-23 00:00:00|2021-08-12 00:00:00|\n",
      "|bb358df8c80ee0edc...|2021-08-13 00:00:00|2021-08-12 00:00:00|\n",
      "|d89e7a5134141629a...|2021-08-23 00:00:00|2021-08-12 00:00:00|\n",
      "+--------------------+-------------------+-------------------+\n",
      "only showing top 20 rows\n",
      "\n"
     ]
    }
   ],
   "source": [
    "df_crd_opns.registerTempTable(\"crds\")\n",
    "\n",
    "df_crd_opns = sqlContext.sql(\"\"\"SELECT * FROM crds WHERE cust_id not in \n",
    "                                (select distinct cust_id\n",
    "                                from (SELECT cust_id , count(distinct control_group_flg) as cnt\n",
    "                                    FROM comms\n",
    "                                    group by cust_id\n",
    "                                    having count(distinct control_group_flg) > 1\n",
    "                                    ) a\n",
    "                                )\n",
    "                            \"\"\")\n",
    "df_crd_opns.show()"
   ]
  },
  {
   "cell_type": "code",
   "execution_count": 24,
   "id": "jIDq5dZDUMtr",
   "metadata": {
    "colab": {
     "base_uri": "https://localhost:8080/"
    },
    "id": "jIDq5dZDUMtr",
    "outputId": "2eef3db9-a1bd-4a19-e022-c5aa3813a850"
   },
   "outputs": [
    {
     "name": "stdout",
     "output_type": "stream",
     "text": [
      "+--------------------+-------------------+------+-------+\n",
      "|             cust_id|     transaction_dt|mcc_id|txn_sum|\n",
      "+--------------------+-------------------+------+-------+\n",
      "|db5e62076fad27295...|2021-09-09 00:00:00|  5399| 2322.0|\n",
      "|9fc01d326a0adcb9c...|2021-09-07 00:00:00|  5533| 1245.0|\n",
      "|7afcb430aaf9baa17...|2021-08-30 00:00:00|  5921|  29.99|\n",
      "|79a2d16cd93c5d151...|2021-09-04 00:00:00|  5211|  110.0|\n",
      "|0c10b18ba26cb55e4...|2021-08-31 00:00:00|  5441|   45.0|\n",
      "|80dee4219eef1bbf3...|2021-09-15 00:00:00|  5411| 263.65|\n",
      "|188c790564fd31843...|2021-09-03 00:00:00|  5411|  129.0|\n",
      "|1ef28607bf5bd0ffe...|2021-09-08 00:00:00|  5411| 1411.0|\n",
      "|ec1acb6ccaaf88034...|2021-08-22 00:00:00|  5977|  687.0|\n",
      "|d33ced03426b6230f...|2021-08-28 00:00:00|  4722|36360.0|\n",
      "|5ecf29bbfe9925258...|2021-09-11 00:00:00|  5691|  278.0|\n",
      "|42dfc5265736e9bd3...|2021-08-30 00:00:00|  5499| 219.06|\n",
      "|773d82f35b0f87328...|2021-08-28 00:00:00|  5912|   55.0|\n",
      "|5cea8338ac5857a0a...|2021-08-29 00:00:00|  5541|  999.8|\n",
      "|ba7afae0a7dfa2d4e...|2021-09-14 00:00:00|  5814|  778.5|\n",
      "|d07dd9fabd548ad9e...|2021-08-14 00:00:00|  5411| 808.18|\n",
      "|0de5dc45bd3aa22b1...|2021-09-02 00:00:00|  5411|  51.27|\n",
      "|b714fd89ed9928b31...|2021-09-06 00:00:00|  5411| 313.74|\n",
      "|16126b092c068d1e7...|2021-09-02 00:00:00|  5814|   40.0|\n",
      "|ef8d5c2db211c8247...|2021-09-15 00:00:00|  5691|  467.0|\n",
      "+--------------------+-------------------+------+-------+\n",
      "only showing top 20 rows\n",
      "\n"
     ]
    }
   ],
   "source": [
    "df_trans.registerTempTable(\"trans\")\n",
    "\n",
    "df_trans = sqlContext.sql(\"\"\"SELECT * FROM trans WHERE cust_id not in \n",
    "                                (select distinct cust_id\n",
    "                                from (SELECT cust_id , count(distinct control_group_flg) as cnt\n",
    "                                    FROM comms\n",
    "                                    group by cust_id\n",
    "                                    having count(distinct control_group_flg) > 1\n",
    "                                    ) a\n",
    "                                )\n",
    "                            \"\"\")\n",
    "df_trans.show()"
   ]
  },
  {
   "cell_type": "code",
   "execution_count": 25,
   "id": "q4t8sAwrUQlQ",
   "metadata": {
    "colab": {
     "base_uri": "https://localhost:8080/"
    },
    "id": "q4t8sAwrUQlQ",
    "outputId": "87df837a-7732-46e2-cd5f-b6787ebce1b6"
   },
   "outputs": [
    {
     "name": "stdout",
     "output_type": "stream",
     "text": [
      "+--------------------+----------+--------------------+----------+--------------+------+------+\n",
      "|             cust_id|  mnth_gen|            turnover|involve_cd|client_segment|gender|age_gr|\n",
      "+--------------------+----------+--------------------+----------+--------------+------+------+\n",
      "|ad767176b86d500e5...|2021-06-01|17764.83000000000...|         1|          MASS|     F| 25-40|\n",
      "|cc7c069e1866b0e14...|2021-06-01|18817.45000000000...|         1|          MASS|     M| 25-40|\n",
      "|914c9e80623d8fdec...|2021-01-01|19198.74000000000...|         1|     MVS LIGHT|     F| 25-40|\n",
      "|e45e78863f239d393...|2021-04-01|114637.5400000000...|         1|     MVS UPPER|     F| 40-60|\n",
      "|7b7829394d7897140...|2021-01-01|17576.22000000000...|         1|     MVS LIGHT|     F| 40-60|\n",
      "|ecad93826320a5980...|2021-07-01|120845.4500000000...|         0|     MVS UPPER|     M| 40-60|\n",
      "|96c63552c78c342a4...|2021-03-01|5878.500000000000...|         0|          MASS|     F| 25-40|\n",
      "|6b13c0fed87df6302...|2021-01-01|16811.72000000000...|         1|          MASS|     M| 25-40|\n",
      "|92d849680c062d784...|2021-02-01|43986.04000000000...|         1|     MVS LIGHT|     M| 25-40|\n",
      "|805ec50515849f58f...|2021-06-01|57148.94000000000...|         1|     MVS UPPER|     F| 25-40|\n",
      "|f823a0e07a76eab9c...|2021-02-01|10652.69000000000...|         1|          MASS|     F|   <25|\n",
      "|375bc3278f1131f8e...|2021-09-01|10636.22000000000...|         0|          MASS|     F| 40-60|\n",
      "|a463b6daac57d4452...|2021-10-01|14692.53000000000...|         0|          MASS|     M| 25-40|\n",
      "|3044299811ba2bc97...|2021-05-01|33803.45000000000...|         0|     MVS LIGHT|     F| 25-40|\n",
      "|acdb9efe9dd1def78...|2021-09-01|13673.60000000000...|         0|          MASS|     M|   60+|\n",
      "|4ee935372f0b89547...|2021-06-01|41083.86000000000...|         1|     MVS UPPER|     M| 25-40|\n",
      "|bbec1eb17cc86349e...|2021-02-01|41794.04000000000...|         1|          MASS|     M|   60+|\n",
      "|5b0bd6c2c31347b70...|2021-06-01|11092.70000000000...|         1|          MASS|     F| 25-40|\n",
      "|1ae420a1a79ab0abb...|2021-07-01|16690.15000000000...|         0|          MASS|     F| 40-60|\n",
      "|626707a5fddc2a04b...|2021-06-01|71634.99000000000...|         1|     MVS LIGHT|     F|   <25|\n",
      "+--------------------+----------+--------------------+----------+--------------+------+------+\n",
      "only showing top 20 rows\n",
      "\n"
     ]
    }
   ],
   "source": [
    "df_ftrs.registerTempTable(\"ftrs\")\n",
    "\n",
    "df_ftrs = sqlContext.sql(\"\"\"SELECT * FROM ftrs WHERE cust_id not in \n",
    "                                (select distinct cust_id\n",
    "                                from (SELECT cust_id , count(distinct control_group_flg) as cnt\n",
    "                                    FROM comms\n",
    "                                    group by cust_id\n",
    "                                    having count(distinct control_group_flg) > 1\n",
    "                                    ) a\n",
    "                                )\n",
    "                            \"\"\")\n",
    "df_ftrs.show()"
   ]
  },
  {
   "cell_type": "code",
   "execution_count": 26,
   "id": "BBJ-X-gBUWvf",
   "metadata": {
    "colab": {
     "base_uri": "https://localhost:8080/"
    },
    "id": "BBJ-X-gBUWvf",
    "outputId": "5c76a967-74fd-437c-f68e-63af9c83d1e0"
   },
   "outputs": [
    {
     "name": "stdout",
     "output_type": "stream",
     "text": [
      "+------------+-------------------+-----------------+----+---------+------+-------+-------+--------------------+\n",
      "|channel_type|         contact_dt|control_group_flg|sent|delivered|opened|clicked|blocked|             cust_id|\n",
      "+------------+-------------------+-----------------+----+---------+------+-------+-------+--------------------+\n",
      "|       Popup|2021-08-23 00:00:00|                0|   1|        1|     1|      0|      0|5d0a0cae173c27947...|\n",
      "|       EMAIL|2021-08-12 00:00:00|                0|   1|        1|     0|      0|      0|b70d7c45f4d1724ac...|\n",
      "|       Popup|2021-08-11 00:00:00|                0|   1|        1|     1|      0|      0|1b3705d419798b872...|\n",
      "|        PUSH|2021-08-12 00:00:00|                0|   0|        0|     0|      0|      0|0064bbbb2fd516698...|\n",
      "|        PUSH|2021-08-12 00:00:00|                0|   0|        0|     0|      0|      0|3f0be853435987e9a...|\n",
      "|       Popup|2021-08-24 00:00:00|                0|   1|        1|     1|      0|      0|c645c4639726e6e02...|\n",
      "|       EMAIL|2021-08-13 00:00:00|                0|   1|        1|     0|      0|      0|0b17e6bc83a62e85b...|\n",
      "|       Popup|2021-08-19 00:00:00|                0|   1|        1|     1|      0|      0|0f7a9f538c71595f4...|\n",
      "|       EMAIL|2021-08-13 00:00:00|                0|   1|        1|     0|      0|      0|9292d7ba2778cf2db...|\n",
      "|        PUSH|2021-08-12 00:00:00|                0|   0|        0|     0|      0|      0|2af98bc3274c5ec25...|\n",
      "|        PUSH|2021-08-12 00:00:00|                1|   0|        0|     0|      0|      0|fb9d40dd592c71ce2...|\n",
      "|       EMAIL|2021-08-13 00:00:00|                0|   1|        1|     0|      0|      0|bce3a4f4a068ba304...|\n",
      "|       EMAIL|2021-08-12 00:00:00|                0|   1|        1|     0|      0|      0|91f124cfa2346e668...|\n",
      "|        PUSH|2021-08-12 00:00:00|                0|   0|        0|     0|      0|      0|e12b0d954d114b20a...|\n",
      "|       EMAIL|2021-08-12 00:00:00|                0|   1|        1|     0|      0|      0|21b27b9e87594ac12...|\n",
      "|        PUSH|2021-08-12 00:00:00|                0|   0|        0|     0|      0|      0|2a772c886399d6166...|\n",
      "|       Popup|2021-08-19 00:00:00|                0|   1|        1|     1|      0|      0|87b9fee18ed98f7c6...|\n",
      "|       Popup|2021-08-13 00:00:00|                0|   1|        1|     1|      0|      0|2d9bf809001c73a1a...|\n",
      "|        PUSH|2021-08-12 00:00:00|                0|   0|        0|     0|      0|      0|bc29bfd267f05d735...|\n",
      "|        PUSH|2021-08-12 00:00:00|                1|   0|        0|     0|      0|      0|969955eadf559f746...|\n",
      "+------------+-------------------+-----------------+----+---------+------+-------+-------+--------------------+\n",
      "only showing top 20 rows\n",
      "\n"
     ]
    }
   ],
   "source": [
    "df_visa_comms = sqlContext.sql(\"\"\"SELECT * FROM comms WHERE cust_id not in \n",
    "                                (select distinct cust_id\n",
    "                                from (SELECT cust_id , count(distinct control_group_flg) as cnt\n",
    "                                    FROM comms\n",
    "                                    group by cust_id\n",
    "                                    having count(distinct control_group_flg) > 1\n",
    "                                    ) a\n",
    "                                )\n",
    "                            \"\"\")\n",
    "df_visa_comms.show()"
   ]
  },
  {
   "cell_type": "markdown",
   "id": "7idGNoU6YAeT",
   "metadata": {
    "id": "7idGNoU6YAeT"
   },
   "source": [
    "Let's check it again"
   ]
  },
  {
   "cell_type": "code",
   "execution_count": 27,
   "id": "DTucJrKDX-sA",
   "metadata": {
    "colab": {
     "base_uri": "https://localhost:8080/"
    },
    "id": "DTucJrKDX-sA",
    "outputId": "51507589-9b3c-4a35-b206-5f44e2ff5c81"
   },
   "outputs": [
    {
     "name": "stdout",
     "output_type": "stream",
     "text": [
      "+--------+\n",
      "|count(1)|\n",
      "+--------+\n",
      "|       0|\n",
      "+--------+\n",
      "\n"
     ]
    }
   ],
   "source": [
    "df_visa_comms.registerTempTable(\"comms\")\n",
    "df_crd_opns.registerTempTable(\"crds\")\n",
    "df_trans.registerTempTable(\"trans\")\n",
    "df_ftrs.registerTempTable(\"ftrs\")\n",
    "\n",
    "comms = sqlContext.sql(\"\"\"select count(*)\n",
    "                        from (SELECT cust_id , count(distinct control_group_flg) as cnt\n",
    "                            FROM comms\n",
    "                            group by cust_id\n",
    "                            having count(distinct control_group_flg) > 1\n",
    "                            ) a\n",
    "                        \"\"\")\n",
    "comms.show()"
   ]
  },
  {
   "cell_type": "markdown",
   "id": "hxMEymZW95TG",
   "metadata": {
    "id": "hxMEymZW95TG"
   },
   "source": [
    "Let's create a flat sample of clients with a flag for fulfilling campaign conditions"
   ]
  },
  {
   "cell_type": "code",
   "execution_count": 28,
   "id": "eTadSv1sKZEw",
   "metadata": {
    "colab": {
     "base_uri": "https://localhost:8080/"
    },
    "id": "eTadSv1sKZEw",
    "outputId": "41134862-2196-4615-f96e-483537950acd"
   },
   "outputs": [
    {
     "name": "stdout",
     "output_type": "stream",
     "text": [
      "== Physical Plan ==\n",
      "AdaptiveSparkPlan isFinalPlan=false\n",
      "+- HashAggregate(keys=[cust_id#119, open_dt#429, campaign_txn_sum#424, all_trans_count#423L, flag_success_campaign#425, control_group_flg#432L], functions=[sum(coalesce(txn_sum#451, 0.0))])\n",
      "   +- HashAggregate(keys=[cust_id#119, open_dt#429, knownfloatingpointnormalized(normalizenanandzero(campaign_txn_sum#424)) AS campaign_txn_sum#424, all_trans_count#423L, flag_success_campaign#425, control_group_flg#432L], functions=[partial_sum(coalesce(txn_sum#451, 0.0))])\n",
      "      +- Project [cust_id#119, open_dt#429, campaign_txn_sum#424, all_trans_count#423L, flag_success_campaign#425, control_group_flg#432L, txn_sum#451]\n",
      "         +- SortMergeJoin [cust_id#119], [cust_id#448], LeftOuter\n",
      "            :- Sort [cust_id#119 ASC NULLS FIRST], false, 0\n",
      "            :  +- HashAggregate(keys=[cust_id#119, open_dt#429, all_trans_count#423L, _groupingexpression#473, control_group_flg#432L], functions=[sum(CASE WHEN (all_trans_count#423L >= 3) THEN txn_sum#128 ELSE 0.0 END)])\n",
      "            :     +- HashAggregate(keys=[cust_id#119, open_dt#429, all_trans_count#423L, _groupingexpression#473, control_group_flg#432L], functions=[partial_sum(CASE WHEN (all_trans_count#423L >= 3) THEN txn_sum#128 ELSE 0.0 END)])\n",
      "            :        +- Project [cust_id#119, open_dt#429, txn_sum#128, all_trans_count#423L, control_group_flg#432L, CASE WHEN (all_trans_count#423L >= 3) THEN 1 ELSE 0 END AS _groupingexpression#473]\n",
      "            :           +- Window [count(cust_id#125) windowspecdefinition(cust_id#119, specifiedwindowframe(RowFrame, unboundedpreceding$(), unboundedfollowing$())) AS all_trans_count#423L], [cust_id#119]\n",
      "            :              +- Project [cust_id#119, open_dt#429, txn_sum#128, control_group_flg#432L, cust_id#125]\n",
      "            :                 +- SortMergeJoin [cust_id#119], [cust_id#125], LeftOuter, ((open_dt#429 <= transaction_dt#126) AND (transaction_dt#126 < cast(date_add(cast(open_dt#429 as date), 14) as timestamp)))\n",
      "            :                    :- Sort [cust_id#119 ASC NULLS FIRST], false, 0\n",
      "            :                    :  +- HashAggregate(keys=[cust_id#119, control_group_flg#432L], functions=[min(open_dt#120)])\n",
      "            :                    :     +- HashAggregate(keys=[cust_id#119, control_group_flg#432L], functions=[partial_min(open_dt#120)])\n",
      "            :                    :        +- Project [cust_id#119, open_dt#120, control_group_flg#432L]\n",
      "            :                    :           +- SortMergeJoin [cust_id#119], [cust_id#438], Inner, (max_contact_dt#428 <= open_dt#120)\n",
      "            :                    :              :- Sort [cust_id#119 ASC NULLS FIRST], false, 0\n",
      "            :                    :              :  +- Exchange hashpartitioning(cust_id#119, 200), ENSURE_REQUIREMENTS, [plan_id=2050]\n",
      "            :                    :              :     +- BroadcastHashJoin [cust_id#119], [cust_id#109], LeftAnti, BuildRight, true\n",
      "            :                    :              :        :- Project [cust_id#119, open_dt#120]\n",
      "            :                    :              :        :  +- Filter (isnotnull(cust_id#119) AND isnotnull(open_dt#120))\n",
      "            :                    :              :        :     +- Scan ExistingRDD[cust_id#119,open_dt#120,contact_dt#121]\n",
      "            :                    :              :        +- BroadcastExchange HashedRelationBroadcastMode(List(input[0, string, true]),true), [plan_id=2030]\n",
      "            :                    :              :           +- Project [cust_id#109]\n",
      "            :                    :              :              +- Filter (cnt#192L > 1)\n",
      "            :                    :              :                 +- HashAggregate(keys=[cust_id#109], functions=[count(distinct control_group_flg#103L)])\n",
      "            :                    :              :                    +- Exchange hashpartitioning(cust_id#109, 200), ENSURE_REQUIREMENTS, [plan_id=2025]\n",
      "            :                    :              :                       +- HashAggregate(keys=[cust_id#109], functions=[partial_count(distinct control_group_flg#103L)])\n",
      "            :                    :              :                          +- HashAggregate(keys=[cust_id#109, control_group_flg#103L], functions=[])\n",
      "            :                    :              :                             +- Exchange hashpartitioning(cust_id#109, control_group_flg#103L, 200), ENSURE_REQUIREMENTS, [plan_id=2021]\n",
      "            :                    :              :                                +- HashAggregate(keys=[cust_id#109, control_group_flg#103L], functions=[])\n",
      "            :                    :              :                                   +- Project [control_group_flg#103L, cust_id#109]\n",
      "            :                    :              :                                      +- Scan ExistingRDD[channel_type#101,contact_dt#102,control_group_flg#103L,sent#104L,delivered#105L,opened#106L,clicked#107L,blocked#108L,cust_id#109]\n",
      "            :                    :              +- Sort [cust_id#438 ASC NULLS FIRST], false, 0\n",
      "            :                    :                 +- Exchange hashpartitioning(cust_id#438, 200), ENSURE_REQUIREMENTS, [plan_id=2051]\n",
      "            :                    :                    +- Filter isnotnull(max_contact_dt#428)\n",
      "            :                    :                       +- HashAggregate(keys=[cust_id#438, control_group_flg#432L], functions=[max(contact_dt#431)])\n",
      "            :                    :                          +- Exchange hashpartitioning(cust_id#438, control_group_flg#432L, 200), ENSURE_REQUIREMENTS, [plan_id=2045]\n",
      "            :                    :                             +- HashAggregate(keys=[cust_id#438, control_group_flg#432L], functions=[partial_max(contact_dt#431)])\n",
      "            :                    :                                +- BroadcastHashJoin [cust_id#438], [cust_id#323], LeftAnti, BuildRight, true\n",
      "            :                    :                                   :- Project [contact_dt#431, control_group_flg#432L, cust_id#438]\n",
      "            :                    :                                   :  +- Filter ((isnotnull(control_group_flg#432L) AND (control_group_flg#432L = 0)) AND isnotnull(cust_id#438))\n",
      "            :                    :                                   :     +- Scan ExistingRDD[channel_type#430,contact_dt#431,control_group_flg#432L,sent#433L,delivered#434L,opened#435L,clicked#436L,blocked#437L,cust_id#438]\n",
      "            :                    :                                   +- BroadcastExchange HashedRelationBroadcastMode(List(input[0, string, true]),true), [plan_id=2041]\n",
      "            :                    :                                      +- Project [cust_id#323]\n",
      "            :                    :                                         +- Filter (cnt#311L > 1)\n",
      "            :                    :                                            +- HashAggregate(keys=[cust_id#323], functions=[count(distinct control_group_flg#317L)])\n",
      "            :                    :                                               +- Exchange hashpartitioning(cust_id#323, 200), ENSURE_REQUIREMENTS, [plan_id=2036]\n",
      "            :                    :                                                  +- HashAggregate(keys=[cust_id#323], functions=[partial_count(distinct control_group_flg#317L)])\n",
      "            :                    :                                                     +- HashAggregate(keys=[cust_id#323, control_group_flg#317L], functions=[])\n",
      "            :                    :                                                        +- Exchange hashpartitioning(cust_id#323, control_group_flg#317L, 200), ENSURE_REQUIREMENTS, [plan_id=2032]\n",
      "            :                    :                                                           +- HashAggregate(keys=[cust_id#323, control_group_flg#317L], functions=[])\n",
      "            :                    :                                                              +- Project [control_group_flg#317L, cust_id#323]\n",
      "            :                    :                                                                 +- Scan ExistingRDD[channel_type#315,contact_dt#316,control_group_flg#317L,sent#318L,delivered#319L,opened#320L,clicked#321L,blocked#322L,cust_id#323]\n",
      "            :                    +- Sort [cust_id#125 ASC NULLS FIRST], false, 0\n",
      "            :                       +- Exchange hashpartitioning(cust_id#125, 200), ENSURE_REQUIREMENTS, [plan_id=2071]\n",
      "            :                          +- BroadcastHashJoin [cust_id#125], [cust_id#447], LeftAnti, BuildRight, true\n",
      "            :                             :- Project [cust_id#125, transaction_dt#126, txn_sum#128]\n",
      "            :                             :  +- Filter (((isnotnull(txn_sum#128) AND (txn_sum#128 >= 500.0)) AND isnotnull(cust_id#125)) AND isnotnull(transaction_dt#126))\n",
      "            :                             :     +- Scan ExistingRDD[cust_id#125,transaction_dt#126,mcc_id#127L,txn_sum#128]\n",
      "            :                             +- BroadcastExchange HashedRelationBroadcastMode(List(input[0, string, true]),true), [plan_id=2067]\n",
      "            :                                +- Project [cust_id#447]\n",
      "            :                                   +- Filter (cnt#221L > 1)\n",
      "            :                                      +- HashAggregate(keys=[cust_id#447], functions=[count(distinct control_group_flg#441L)])\n",
      "            :                                         +- Exchange hashpartitioning(cust_id#447, 200), ENSURE_REQUIREMENTS, [plan_id=2062]\n",
      "            :                                            +- HashAggregate(keys=[cust_id#447], functions=[partial_count(distinct control_group_flg#441L)])\n",
      "            :                                               +- HashAggregate(keys=[cust_id#447, control_group_flg#441L], functions=[])\n",
      "            :                                                  +- Exchange hashpartitioning(cust_id#447, control_group_flg#441L, 200), ENSURE_REQUIREMENTS, [plan_id=2058]\n",
      "            :                                                     +- HashAggregate(keys=[cust_id#447, control_group_flg#441L], functions=[])\n",
      "            :                                                        +- Project [control_group_flg#441L, cust_id#447]\n",
      "            :                                                           +- Scan ExistingRDD[channel_type#439,contact_dt#440,control_group_flg#441L,sent#442L,delivered#443L,opened#444L,clicked#445L,blocked#446L,cust_id#447]\n",
      "            +- Sort [cust_id#448 ASC NULLS FIRST], false, 0\n",
      "               +- Exchange hashpartitioning(cust_id#448, 200), ENSURE_REQUIREMENTS, [plan_id=2093]\n",
      "                  +- BroadcastHashJoin [cust_id#448], [cust_id#460], LeftAnti, BuildRight, true\n",
      "                     :- Project [cust_id#448, txn_sum#451]\n",
      "                     :  +- Filter isnotnull(cust_id#448)\n",
      "                     :     +- Scan ExistingRDD[cust_id#448,transaction_dt#449,mcc_id#450L,txn_sum#451]\n",
      "                     +- BroadcastExchange HashedRelationBroadcastMode(List(input[0, string, true]),true), [plan_id=2089]\n",
      "                        +- Project [cust_id#460]\n",
      "                           +- Filter (cnt#221L > 1)\n",
      "                              +- HashAggregate(keys=[cust_id#460], functions=[count(distinct control_group_flg#454L)])\n",
      "                                 +- Exchange hashpartitioning(cust_id#460, 200), ENSURE_REQUIREMENTS, [plan_id=2084]\n",
      "                                    +- HashAggregate(keys=[cust_id#460], functions=[partial_count(distinct control_group_flg#454L)])\n",
      "                                       +- HashAggregate(keys=[cust_id#460, control_group_flg#454L], functions=[])\n",
      "                                          +- Exchange hashpartitioning(cust_id#460, control_group_flg#454L, 200), ENSURE_REQUIREMENTS, [plan_id=2080]\n",
      "                                             +- HashAggregate(keys=[cust_id#460, control_group_flg#454L], functions=[])\n",
      "                                                +- Project [control_group_flg#454L, cust_id#460]\n",
      "                                                   +- Scan ExistingRDD[channel_type#452,contact_dt#453,control_group_flg#454L,sent#455L,delivered#456L,opened#457L,clicked#458L,blocked#459L,cust_id#460]\n",
      "\n",
      "\n"
     ]
    }
   ],
   "source": [
    "results = sqlContext.sql(\"\"\"WITH single_cards as (\n",
    "                                SELECT crds.cust_id , cm.control_group_flg, min(crds.open_dt) as open_dt\n",
    "                                FROM crds \n",
    "                                INNER JOIN (SELECT cust_id , control_group_flg, max(contact_dt) as max_contact_dt FROM comms GROUP BY cust_id , control_group_flg) as cm \n",
    "                                ON crds.cust_id = cm.cust_id AND cm.control_group_flg = 0  and max_contact_dt <= crds.open_dt\n",
    "                                GROUP BY crds.cust_id, cm.control_group_flg\n",
    "                            )\n",
    "                            SELECT a.cust_id \n",
    "                                , a.open_dt \n",
    "                                , sum(coalesce(all_t.txn_sum,0)) as all_txn_sum\n",
    "                                , a.campaign_txn_sum\n",
    "                                , a.all_trans_count as campaign_trans_count\n",
    "                                , a.flag_success_campaign\n",
    "                                , a.control_group_flg\n",
    "                            FROM (\n",
    "                                SELECT cust_id \n",
    "                                    , open_dt \n",
    "                                    , sum(CASE WHEN main.all_trans_count >= 3 \n",
    "                                                THEN txn_sum\n",
    "                                                ELSE 0\n",
    "                                          END) AS campaign_txn_sum\n",
    "                                    , all_trans_count\n",
    "                                    , CASE WHEN main.all_trans_count >= 3 \n",
    "                                            THEN 1\n",
    "                                            ELSE 0\n",
    "                                      END AS flag_success_campaign\n",
    "                                    , control_group_flg\n",
    "                                FROM (\n",
    "                                    SELECT crds.cust_id \n",
    "                                        , crds.open_dt \n",
    "                                        , trans.transaction_dt \n",
    "                                        , trans.mcc_id \n",
    "                                        , trans.txn_sum\n",
    "                                        , count(trans.cust_id) OVER (PARTITION BY crds.cust_id) as all_trans_count\n",
    "                                        , crds.control_group_flg\n",
    "                                    FROM single_cards as crds\n",
    "                                    LEFT JOIN trans \n",
    "                                    ON crds.cust_id = trans.cust_id  \n",
    "                                    AND trans.txn_sum >= 500 \n",
    "                                    AND crds.open_dt <= trans.transaction_dt\n",
    "                                    AND trans.transaction_dt < date_add(crds.open_dt, 14) \n",
    "                                ) main\n",
    "                                GROUP BY cust_id \n",
    "                                    , open_dt \n",
    "                                    , all_trans_count\n",
    "                                    , CASE WHEN main.all_trans_count >= 3 \n",
    "                                            THEN 1\n",
    "                                            ELSE 0\n",
    "                                      END\n",
    "                                    , control_group_flg\n",
    "                            ) a\n",
    "                            LEFT JOIN trans as all_t\n",
    "                                ON a.cust_id = all_t.cust_id \n",
    "                            group by a.cust_id \n",
    "                                , a.open_dt \n",
    "                                , a.campaign_txn_sum\n",
    "                                , a.all_trans_count\n",
    "                                , a.flag_success_campaign\n",
    "                                , a.control_group_flg\n",
    "                            \"\"\")\n",
    "results.explain()"
   ]
  },
  {
   "cell_type": "markdown",
   "id": "k6Nj0BdyWb6i",
   "metadata": {
    "id": "k6Nj0BdyWb6i"
   },
   "source": [
    "The dataframe of the results includes the fields: \n",
    "- cust_id \n",
    "- open_dt\n",
    "- all_txt_sum (Sum of all transactions) \n",
    "- campaign_txt_sum (The amount of transactions during the execution of the campaign)\n",
    "- campaign_trans_count (The number of transactions during the execution of the campaign)\n",
    "- flag_success_campaign (Campaign execution flag. 1 - the conditions are met. 0 - conditions are not met)\n",
    "\n",
    "Campaign execution condition:\n",
    "The client must open a new Visa card and make 3 transactions in the amount of at least 500 rubles each within a 14-day period."
   ]
  },
  {
   "cell_type": "code",
   "execution_count": 29,
   "id": "-5gkQbZZ5QQd",
   "metadata": {
    "colab": {
     "base_uri": "https://localhost:8080/"
    },
    "id": "-5gkQbZZ5QQd",
    "outputId": "96c67bec-be3e-4997-d1b1-32548785c458"
   },
   "outputs": [
    {
     "name": "stdout",
     "output_type": "stream",
     "text": [
      "+----------------------------------------------------------------+-------------------+------------------+------------------+--------------------+---------------------+-----------------+\n",
      "|cust_id                                                         |open_dt            |all_txn_sum       |campaign_txn_sum  |campaign_trans_count|flag_success_campaign|control_group_flg|\n",
      "+----------------------------------------------------------------+-------------------+------------------+------------------+--------------------+---------------------+-----------------+\n",
      "|0000d77b0a84faaed1feb633819762454e11b716c7a9e4090f8c27ebc797f7f2|2021-08-20 00:00:00|6081.48           |0.0               |0                   |0                    |0                |\n",
      "|0001f693f461c4a742c3bec39528bab626212dab10d27e2b638bdd5f19bd1064|2021-08-17 00:00:00|5748.05           |0.0               |0                   |0                    |0                |\n",
      "|000238bd9e5c9d21a742471123ae9dcb4d391273223890c465945375b69d3aa2|2021-08-18 00:00:00|27452.329999999994|12963.84          |10                  |1                    |0                |\n",
      "|0002c082f655af19e9469c15fdde4dfd6e9fb2494171c91712e9a6328fe48c67|2021-08-14 00:00:00|0.0               |0.0               |0                   |0                    |0                |\n",
      "|00069a7fd6ef17ac261807b9887ddf90e409180e2903a4f9e3637fda00992881|2021-08-23 00:00:00|2046.41           |0.0               |1                   |0                    |0                |\n",
      "|000ac0a8339e129445108f872398c544e8161b2c7cc62d5e9a9cbec439972206|2021-08-20 00:00:00|0.0               |0.0               |0                   |0                    |0                |\n",
      "|000fb6166f2cc109d447d506a84b18296f6fee1687cd75e38f6dd4636457f44f|2021-08-24 00:00:00|1140.93           |0.0               |0                   |0                    |0                |\n",
      "|0010b75c92fda9aaa63c49a13b93662302fb78318c9ed1dea16c52bb3dcc4670|2021-08-19 00:00:00|92.0              |0.0               |0                   |0                    |0                |\n",
      "|001aad67b14953ea6aa7d761d7d0e40e35ff69c28fdd71d856e8d0b61abf880d|2021-08-18 00:00:00|20431.449999999993|0.0               |0                   |0                    |0                |\n",
      "|001d5c61be1d7cb79f03bbd5cd914b0c7b01566b9cfd6fc7c81163912b8ae1ea|2021-08-19 00:00:00|0.0               |0.0               |0                   |0                    |0                |\n",
      "|0022dd1c9673c166fdc7f005bab4524843e0e039f2834687e9d9fcc15b0389f0|2021-08-24 00:00:00|0.0               |0.0               |0                   |0                    |0                |\n",
      "|0023250272ad22842519826068751fa744ad12796dccbc3a4c3da937e7cb2496|2021-08-22 00:00:00|0.0               |0.0               |0                   |0                    |0                |\n",
      "|00244001bd4fa42defdb2692cb4ffd40809d4aa793d0cfd06a1fade327f9ccd4|2021-08-13 00:00:00|29045.199999999997|4297.629999999999 |4                   |1                    |0                |\n",
      "|002510a1331bd474081af8dccac983a4f1ef9cbec6d07af0f696a8285a86713d|2021-08-20 00:00:00|30022.82          |9002.76           |9                   |1                    |0                |\n",
      "|002783fa307628900e162071fdceb7ceab1b47afcdd640be82a4ed3b449f8970|2021-08-18 00:00:00|0.0               |0.0               |0                   |0                    |0                |\n",
      "|002ad6968c1cabf7cc6694445b837a04105e9b4562bff56047f99609bf1afb4b|2021-08-23 00:00:00|0.0               |0.0               |0                   |0                    |0                |\n",
      "|00321668075831d53fbdd1ac17309ed3d2f4716dd68b0d96103ae1fdd7b84b49|2021-08-17 00:00:00|7174.0            |0.0               |0                   |0                    |0                |\n",
      "|0036cd7a63e2ba170c5fcdf9a174ec3fef47e1aefccae4faa5625cbc0e0b92fa|2021-08-21 00:00:00|0.0               |0.0               |0                   |0                    |0                |\n",
      "|003ab88072ce4745d428615f072f0badcfb3372a41b50834d15ed5d4865120e7|2021-08-17 00:00:00|21560.390000000003|5045.25           |5                   |1                    |0                |\n",
      "|003bbae7a44976754089abc41539c8988134634e93e9a79a8033d199218b202c|2021-08-13 00:00:00|67301.73000000001 |50503.47          |3                   |1                    |0                |\n",
      "|003d4eab7aae815348d1d3f3ad7159c168db7adf058618caa97617dceed17b78|2021-08-26 00:00:00|54463.020000000004|48787.91          |10                  |1                    |0                |\n",
      "|003dd7b5bb30d611a6fc57afed04dfeb3c4f18f157cb4b3ddf7faeb59dc38811|2021-08-18 00:00:00|0.0               |0.0               |0                   |0                    |0                |\n",
      "|0042455a0ce3f4fa942e2b27475b9342c53f3b0159f5c6a57b90fffcb156c65f|2021-08-26 00:00:00|3644.6            |0.0               |0                   |0                    |0                |\n",
      "|004573f3cb1f0d294c4c9acb003fe5404a50cb1105b2e60bfdc15af1897f56d7|2021-08-23 00:00:00|12131.14          |7891.56           |9                   |1                    |0                |\n",
      "|004642cf4654c1a8419ce560e7df55ccc97c526979b94b935ebf9813eaf29367|2021-08-19 00:00:00|12998.53          |0.0               |1                   |0                    |0                |\n",
      "|0049579fae9aeb9411eaed953fca63ae11fb34197199d69676287f78720ddce9|2021-08-12 00:00:00|23636.129999999997|8550.55           |3                   |1                    |0                |\n",
      "|004b311d6974a83d723a5412a69400389443658d0d0a7cc0fd675ca483a28264|2021-08-21 00:00:00|0.0               |0.0               |0                   |0                    |0                |\n",
      "|0052175f5f664bebda0705c6c1a7d5253eda9a42780d1c945ea8a7205b66983e|2021-08-25 00:00:00|0.0               |0.0               |0                   |0                    |0                |\n",
      "|0053411cb1baa1d6bbc62e6def408fc38cd870c46d8e3dcd2899cd917e003da7|2021-08-12 00:00:00|0.0               |0.0               |0                   |0                    |0                |\n",
      "|00542ffdc08f63aa26aa41c8362ee681c3a46d82eb48022ce8cfc9ab5812e8a5|2021-08-16 00:00:00|0.0               |0.0               |0                   |0                    |0                |\n",
      "|0057427ab0e81764e88c74e01290553a33f58314d15aecf6ce1905763cc1bf3c|2021-08-23 00:00:00|0.0               |0.0               |0                   |0                    |0                |\n",
      "|00589c2f3e100592c92b72af767a503b401bec4a3453a5bef0131de16b98db72|2021-08-25 00:00:00|0.0               |0.0               |0                   |0                    |0                |\n",
      "|005ba7535b6c6929ba03c2c40c779984f557015b84881c62e503064d47e7bbab|2021-08-14 00:00:00|26416.17          |0.0               |0                   |0                    |0                |\n",
      "|0073e4ae42759e2dd88c9a13a4929989946afb5edbcf96156e328bfb0cceb97e|2021-08-13 00:00:00|8019.79           |3463.79           |3                   |1                    |0                |\n",
      "|00750f97131ea73bb7cd5344fc908315e65e18bc562755231794ee3c2552ccb6|2021-08-25 00:00:00|4532.42           |0.0               |0                   |0                    |0                |\n",
      "|00755ad76bb67f12d46f8574495d90af2939d8921e73f9b7eb0fd39a1c01f6e9|2021-08-12 00:00:00|50951.240000000005|8754.04           |8                   |1                    |0                |\n",
      "|0076d82cb43cbb4f1307a3fc3facf67e8b4c2619e29995ddf8867f575592db6c|2021-08-24 00:00:00|1.0               |0.0               |0                   |0                    |0                |\n",
      "|00797d77f08978124ec37f69495138547d8cf60c0d9f7fc7f0c2b902d58054a0|2021-08-12 00:00:00|11063.089999999998|0.0               |0                   |0                    |0                |\n",
      "|007a801ad0e36258d3a0174369ac8d374b726834d459b889e8f820a9fdaded5b|2021-08-12 00:00:00|57639.28          |15543.76          |13                  |1                    |0                |\n",
      "|007e8f1a37b9a587f02bc5e7b2ad7b6a52be2e3bc0b7659be1ffeee1dd772a73|2021-08-24 00:00:00|29772.000000000004|20247.01          |13                  |1                    |0                |\n",
      "|00806035deaec9ed0fde1c2db0db8e095b102a5d898ea5298d2b68897259083c|2021-08-25 00:00:00|5368.49           |0.0               |1                   |0                    |0                |\n",
      "|0083b7fd60c8d42b0a9693059e5c285ddec1c74159b2265a11a1999b487d79da|2021-08-12 00:00:00|0.0               |0.0               |0                   |0                    |0                |\n",
      "|0084bc08371922a737cae4403b9b308e72c2d23f61a870c44763ee5c969ec575|2021-08-12 00:00:00|15233.850000000002|0.0               |0                   |0                    |0                |\n",
      "|00863eb5cb6f58c2aa0fe79b81577e39f8fb1da2bc4d505acf4d9ab9faa9a5d1|2021-08-18 00:00:00|285.0             |0.0               |0                   |0                    |0                |\n",
      "|008c0999f0312f2d94d3aab37d1e30e0ae4da4ab988bd47164536dfed30c312d|2021-08-12 00:00:00|5130.589999999999 |2662.18           |3                   |1                    |0                |\n",
      "|008e927cb6932c000403a46bc6657839085eeb7cb2e2fc12fb6923ae6b00272d|2021-08-23 00:00:00|32479.46          |14265.98          |10                  |1                    |0                |\n",
      "|0093c84fca370e12439e01750dfc985b300e5d9c1bbd12e40874e788d15fb747|2021-08-23 00:00:00|1206.8400000000001|0.0               |0                   |0                    |0                |\n",
      "|00962cfdf2f7d88f56f0b55b4eba478c090c106e75af1acc81b915705b7c1d66|2021-08-17 00:00:00|22791.620000000006|7047.509999999999 |9                   |1                    |0                |\n",
      "|009c1868042fa07990286f77ebcdb1a00f2ec0c3ff34c161532b26b5f539a767|2021-08-27 00:00:00|15680.749999999998|0.0               |1                   |0                    |0                |\n",
      "|00a1f0bc7e0b2316bde5971209a7a617ed7ddfb630b5bb944273b9cc9d523d16|2021-08-18 00:00:00|1021.6            |0.0               |1                   |0                    |0                |\n",
      "|00ab43d46381f83d1d75d25566cf2240f9b7bd7c205f87b736cf8f7efcd40203|2021-08-25 00:00:00|0.0               |0.0               |0                   |0                    |0                |\n",
      "|00b37f58f81cfa9f12b1b28e401de1849dc14cf1dfaca4a6a9cf67cdd019614c|2021-08-18 00:00:00|10530.03          |0.0               |2                   |0                    |0                |\n",
      "|00b7c4f2d17c75a4f3d0343c1db530cc1603f9291b0c5c3d62ed3504c4f5f5c9|2021-08-20 00:00:00|9304.07           |4322.55           |4                   |1                    |0                |\n",
      "|00bd9da8355fc89eebef38dd9d374d64a9faebbace93354fc44a2fe76117869f|2021-08-25 00:00:00|0.0               |0.0               |0                   |0                    |0                |\n",
      "|00c30e3524511735a42b0f56824180266f7e8a684009321098970975aaeebbf0|2021-08-19 00:00:00|0.0               |0.0               |0                   |0                    |0                |\n",
      "|00ca1f16d3aad697a09a49797d1eb03b45121ec031129db59683376adca4a5bc|2021-08-12 00:00:00|82925.70999999998 |6938.790000000001 |6                   |1                    |0                |\n",
      "|00caf8ed0bcc7cd749c38e1ce60ef9719ba5401c2de3610a462431bbd9192ee0|2021-08-17 00:00:00|14153.54          |0.0               |2                   |0                    |0                |\n",
      "|00cdb609730856b4c101662340d9ba1c20aa656bbd5aa7e8b2f9202600e4d443|2021-08-20 00:00:00|31076.490000000005|19639.67          |7                   |1                    |0                |\n",
      "|00cf96474676d120f13f61c667d261b5751929a80a717723f42915a8e2fa75b2|2021-08-25 00:00:00|29827.970000000005|12822.11          |13                  |1                    |0                |\n",
      "|00dc66217699864182afe9ddfb889fd6a97b0ca3830c9a5cec0f67bfdf250023|2021-08-13 00:00:00|0.0               |0.0               |0                   |0                    |0                |\n",
      "|00e0c825b231d7aead3f2acf12e05c68da1fcb7d0fca405d6ee233bf317b6648|2021-08-12 00:00:00|11814.340000000002|0.0               |2                   |0                    |0                |\n",
      "|00e3822250608d753f5bd2f2e6dbe334518529823e52aeccb0d6e2da9e4a14a1|2021-08-26 00:00:00|26309.960000000003|3290.15           |5                   |1                    |0                |\n",
      "|00e79b836c37871839ea88201b8c2b8c3b2cc880054a739bc1adc02e50337b7b|2021-08-24 00:00:00|2230.0            |0.0               |0                   |0                    |0                |\n",
      "|00e7c902030e44ebd14e57b43605e0084530d3dacdfc0bc0578c02e165bb7ad3|2021-08-23 00:00:00|620.0             |0.0               |0                   |0                    |0                |\n",
      "|00eb8a0837cb036362c06d0a5aad3411e8d61a9c22d5bf39f15f8917f49a00ff|2021-08-19 00:00:00|0.0               |0.0               |0                   |0                    |0                |\n",
      "|00f3eba30a5fc90df18f39df9f8a10db44fc3db1b522939676c15b9ad0fc459f|2021-08-20 00:00:00|0.0               |0.0               |0                   |0                    |0                |\n",
      "|00f962f29f6bdef3ac4e0a0e1c3989d87cc74613114ca2d867cfb720da44bca3|2021-08-13 00:00:00|3389.0            |0.0               |0                   |0                    |0                |\n",
      "|00fcbe8d2c611fb5127841a089ed8f74b591105c57dc5a04feb162d8ec099f26|2021-08-23 00:00:00|0.0               |0.0               |0                   |0                    |0                |\n",
      "|00fd4fed5f6c5491682050cd36bd5fab7edf6c1973a2463ac67addd8148bebcd|2021-08-25 00:00:00|0.0               |0.0               |0                   |0                    |0                |\n",
      "|00fd7e421b877bf7b76ebcd7e0b073b67b95f9a84b50dff523cd481e17d61814|2021-08-16 00:00:00|12702.160000000002|0.0               |0                   |0                    |0                |\n",
      "|00fe24730c88d72b54b277c51fb316364ac74eae4232edff48dd0ea9af858d1f|2021-08-12 00:00:00|0.0               |0.0               |0                   |0                    |0                |\n",
      "|0105343ae67552ef8751c65d09c178ca0270a51181ac93afa90abf7f3e28477e|2021-08-26 00:00:00|0.0               |0.0               |0                   |0                    |0                |\n",
      "|0105449e01664e4874b45f5b610b6dec5f8578339d5211e8a69a578986b21858|2021-08-17 00:00:00|30333.660000000003|28018.100000000002|12                  |1                    |0                |\n",
      "|01071f34e5892a5d3665fcaf9407494c83bfb262b743486fdd72cfb2da00f784|2021-08-17 00:00:00|49148.229999999996|20656.0           |6                   |1                    |0                |\n",
      "|0107dd29d1ccf3aa1ade4fe8534abc6abfc7b88861cfb5dd75dbfd6b9d0426c0|2021-08-17 00:00:00|11220.779999999999|1988.78           |3                   |1                    |0                |\n",
      "|01148364dd90709e234fc2cc61d208117c7338650feb59fe0660c5738496b3d7|2021-08-17 00:00:00|1999.0            |0.0               |1                   |0                    |0                |\n",
      "|012419aefeae0322b156e8c3d86f3932e4c67539045a373b8928b020c35aedba|2021-08-26 00:00:00|20289.12          |5482.6900000000005|5                   |1                    |0                |\n",
      "|0126231fdc7adfff75416242b4a3d82784c61b4899c271db21e60d4084197a66|2021-08-27 00:00:00|10620.339999999998|7615.349999999999 |6                   |1                    |0                |\n",
      "|012646e1be09389bae69ee750ccf2f082b621de4d7a9dd52115906497582c6c5|2021-08-26 00:00:00|0.0               |0.0               |0                   |0                    |0                |\n",
      "|0126bc70fa67da9bbb90b4d08f1bfd43e275b22a1c202e213e2705826442e84f|2021-08-12 00:00:00|0.0               |0.0               |0                   |0                    |0                |\n",
      "|012ac17d87f58f4e9dfde32dd28e53fa01f3062dab510bb318c7aa6d0d50cd50|2021-08-24 00:00:00|5168.280000000001 |3968.28           |4                   |1                    |0                |\n",
      "|012b2dc47b1200286332c22a0f01c6ebc76031133cec8fabd23b13ec5ab0c928|2021-08-13 00:00:00|0.0               |0.0               |0                   |0                    |0                |\n",
      "|0130765f53039168fb52f5df23c0023552c936098b09ff8bd340842ce18010bd|2021-08-16 00:00:00|2339.1            |0.0               |0                   |0                    |0                |\n",
      "|01320aebb4ce5868cc18f8a00fb1e95a7bc7a121d583d243665b70d0b05d7e02|2021-08-17 00:00:00|39983.49          |0.0               |0                   |0                    |0                |\n",
      "|013bb853b81ca90d5b8d634062d00022da924464d1ccf347ff6c043f0da5e276|2021-08-24 00:00:00|3899.0            |0.0               |0                   |0                    |0                |\n",
      "|013c808460ab62849954f8649ccab16bd92552a34f68d290730985ed21effb98|2021-08-26 00:00:00|0.0               |0.0               |0                   |0                    |0                |\n",
      "|01421a38cdc117ac8e6a287755e5ade690ccfed9aa896bcc9e8574a662af2b83|2021-08-17 00:00:00|7111.97           |6527.62           |5                   |1                    |0                |\n",
      "|01466546a097ceca232399e2507fe3abf8c51e174dc9be6696783afb68d6c387|2021-08-17 00:00:00|0.0               |0.0               |0                   |0                    |0                |\n",
      "|014cb1ab9a6ccabcfc26e6850400f6c63d2f80352cf66eda693a1a7449173216|2021-08-24 00:00:00|12252.5           |12252.5           |6                   |1                    |0                |\n",
      "|014da451ded984266fde1927e8a5e73f1a180c18925bc95fa570a3decafbaef9|2021-08-13 00:00:00|0.0               |0.0               |0                   |0                    |0                |\n",
      "|015020824d1dd1e304d0c3e03821e0ccca583fac6378c702b44337ff427d63f9|2021-08-25 00:00:00|47604.28          |29626.870000000003|22                  |1                    |0                |\n",
      "|0154f107858ec174bf4633af07e6f002e68a16d8421bfc1b2b48ebaf5869a9fa|2021-08-26 00:00:00|3265.0            |3264.0            |3                   |1                    |0                |\n",
      "|01561c69e9aba0580b32bd2200d4fd993c0baf0c764ca30262987e87e9491307|2021-08-12 00:00:00|0.0               |0.0               |0                   |0                    |0                |\n",
      "|01564256646968b5ab2332e1a651bc0dc36334b8342c1c03268303685255d777|2021-08-24 00:00:00|260.0             |0.0               |0                   |0                    |0                |\n",
      "|01566c9758485949a2dba33d99e265d3a7fc6cdbbf33945de454e955118e9058|2021-08-18 00:00:00|72000.79999999999 |16544.010000000002|13                  |1                    |0                |\n",
      "|01585354ca9479898ac56366f1d8e6dd3af18c84e2bf26a2c790e27f67e8f8e3|2021-08-17 00:00:00|25671.210000000003|10469.07          |12                  |1                    |0                |\n",
      "|015a7f0642bec7d6d78c144d991c6fce40e5178127bd2f59035dc6ced920c434|2021-08-20 00:00:00|16738.159999999996|4866.51           |4                   |1                    |0                |\n",
      "|015f8490e4dde11d9b50d29baa08d8a0d2b5f8a70ffa7b2b81168ff5055cb793|2021-08-23 00:00:00|60769.4           |31347.75          |15                  |1                    |0                |\n",
      "|01615e1367eca6eda6a5c81155eafe0a3e4840ffee41d5e169c001f9f4d4e447|2021-08-20 00:00:00|0.0               |0.0               |0                   |0                    |0                |\n",
      "|016428b1bf31b88660126f4728a0bf36b4dfbc0e008c608059dcae1fef95fa57|2021-08-16 00:00:00|14432.479999999998|9494.12           |10                  |1                    |0                |\n",
      "+----------------------------------------------------------------+-------------------+------------------+------------------+--------------------+---------------------+-----------------+\n",
      "only showing top 100 rows\n",
      "\n"
     ]
    }
   ],
   "source": [
    "results.sort(\"cust_id\").limit(1000).show(100, False)"
   ]
  },
  {
   "cell_type": "markdown",
   "id": "oYwHIu5SAMKg",
   "metadata": {
    "id": "oYwHIu5SAMKg"
   },
   "source": [
    "# Key indicators\n",
    "For analysis we will analyze rates of email funnel indicators: Delivery rate, open rate, click rate, etc. And also we will consider conversion and revenue."
   ]
  },
  {
   "cell_type": "markdown",
   "id": "XWjm6oUhJvhA",
   "metadata": {
    "id": "XWjm6oUhJvhA"
   },
   "source": [
    "# Email funnel calculations"
   ]
  },
  {
   "cell_type": "markdown",
   "id": "yKOhZWlsJzo4",
   "metadata": {
    "id": "yKOhZWlsJzo4"
   },
   "source": [
    "__Delivery rate__ ( DR = number of delivered emails ÷ number of sent emails × 100)"
   ]
  },
  {
   "cell_type": "code",
   "execution_count": 30,
   "id": "kBLBkAs9Vt4Q",
   "metadata": {
    "colab": {
     "base_uri": "https://localhost:8080/"
    },
    "id": "kBLBkAs9Vt4Q",
    "outputId": "b7f03b88-77c0-4352-ee66-5edf82ee0fba"
   },
   "outputs": [
    {
     "data": {
      "text/plain": [
       "504706"
      ]
     },
     "execution_count": 30,
     "metadata": {},
     "output_type": "execute_result"
    }
   ],
   "source": [
    "df_visa_comms.filter(df_visa_comms.sent == 1).filter(df_visa_comms.channel_type == 'EMAIL').select(df_visa_comms.sent).count()"
   ]
  },
  {
   "cell_type": "code",
   "execution_count": 31,
   "id": "U38OYMygVtwP",
   "metadata": {
    "colab": {
     "base_uri": "https://localhost:8080/"
    },
    "id": "U38OYMygVtwP",
    "outputId": "f3967bae-0a60-4114-8720-2edea87f4568"
   },
   "outputs": [
    {
     "data": {
      "text/plain": [
       "504706"
      ]
     },
     "execution_count": 31,
     "metadata": {},
     "output_type": "execute_result"
    }
   ],
   "source": [
    "df_visa_comms.filter(df_visa_comms.delivered == 1).filter(df_visa_comms.channel_type == 'EMAIL').select(df_visa_comms.delivered).count()"
   ]
  },
  {
   "cell_type": "code",
   "execution_count": 32,
   "id": "KuoMe1IzV9Sn",
   "metadata": {
    "id": "KuoMe1IzV9Sn"
   },
   "outputs": [],
   "source": [
    "DR = ((df_visa_comms.filter(df_visa_comms.delivered == 1).filter(df_visa_comms.channel_type == 'EMAIL').select(df_visa_comms.delivered).count())/(df_visa_comms.filter(df_visa_comms.sent == 1).filter(df_visa_comms.channel_type == 'EMAIL').select(df_visa_comms.sent).count()))*100"
   ]
  },
  {
   "cell_type": "code",
   "execution_count": 33,
   "id": "SIOIHX74OBzo",
   "metadata": {
    "colab": {
     "base_uri": "https://localhost:8080/"
    },
    "id": "SIOIHX74OBzo",
    "outputId": "7ebcd285-56af-49ab-a1f0-20a0fe468b47"
   },
   "outputs": [
    {
     "data": {
      "text/plain": [
       "100.0"
      ]
     },
     "execution_count": 33,
     "metadata": {},
     "output_type": "execute_result"
    }
   ],
   "source": [
    "np.round(DR,1)"
   ]
  },
  {
   "cell_type": "markdown",
   "id": "cl2yuTVYOIPT",
   "metadata": {
    "id": "cl2yuTVYOIPT"
   },
   "source": [
    "**Open rate** OR = open_emails/delivered * 100%\n"
   ]
  },
  {
   "cell_type": "code",
   "execution_count": 34,
   "id": "don8y0V7O5rc",
   "metadata": {
    "colab": {
     "base_uri": "https://localhost:8080/"
    },
    "id": "don8y0V7O5rc",
    "outputId": "d6422450-149a-413c-8783-34bb4f2e2207"
   },
   "outputs": [
    {
     "data": {
      "text/plain": [
       "51816"
      ]
     },
     "execution_count": 34,
     "metadata": {},
     "output_type": "execute_result"
    }
   ],
   "source": [
    "df_visa_comms.filter(df_visa_comms.opened == 1).filter(df_visa_comms.channel_type == 'EMAIL').select(df_visa_comms.opened).count()"
   ]
  },
  {
   "cell_type": "code",
   "execution_count": 35,
   "id": "AVCGi2W0PMZZ",
   "metadata": {
    "id": "AVCGi2W0PMZZ"
   },
   "outputs": [],
   "source": [
    "OR = ((df_visa_comms.filter(df_visa_comms.opened == 1).filter(df_visa_comms.channel_type == 'EMAIL').select(df_visa_comms.opened).count())/(df_visa_comms.filter(df_visa_comms.delivered == 1).filter(df_visa_comms.channel_type == 'EMAIL').select(df_visa_comms.delivered).count()))*100"
   ]
  },
  {
   "cell_type": "code",
   "execution_count": 36,
   "id": "HgcprsUrPlOz",
   "metadata": {
    "colab": {
     "base_uri": "https://localhost:8080/"
    },
    "id": "HgcprsUrPlOz",
    "outputId": "caeaed50-0450-4b2e-db7d-a9e90ba90929"
   },
   "outputs": [
    {
     "data": {
      "text/plain": [
       "10.3"
      ]
     },
     "execution_count": 36,
     "metadata": {},
     "output_type": "execute_result"
    }
   ],
   "source": [
    "np.round(OR,1)"
   ]
  },
  {
   "cell_type": "markdown",
   "id": "d2sj0giqPnqt",
   "metadata": {
    "id": "d2sj0giqPnqt"
   },
   "source": [
    "**Click Rate** = clicked_emails/delivered * 100%"
   ]
  },
  {
   "cell_type": "code",
   "execution_count": 37,
   "id": "qbq6Ee2HP247",
   "metadata": {
    "colab": {
     "base_uri": "https://localhost:8080/"
    },
    "id": "qbq6Ee2HP247",
    "outputId": "203cdd0a-53d8-4f70-c1f6-af03aa290be3"
   },
   "outputs": [
    {
     "data": {
      "text/plain": [
       "3053"
      ]
     },
     "execution_count": 37,
     "metadata": {},
     "output_type": "execute_result"
    }
   ],
   "source": [
    "df_visa_comms.filter(df_visa_comms.clicked == 1).filter(df_visa_comms.channel_type == 'EMAIL').select(df_visa_comms.clicked).count()"
   ]
  },
  {
   "cell_type": "code",
   "execution_count": 38,
   "id": "oRdehvYkP6b5",
   "metadata": {
    "id": "oRdehvYkP6b5"
   },
   "outputs": [],
   "source": [
    "CR = ((df_visa_comms.filter(df_visa_comms.clicked == 1).filter(df_visa_comms.channel_type == 'EMAIL').select(df_visa_comms.clicked).count())/(df_visa_comms.filter(df_visa_comms.delivered == 1).filter(df_visa_comms.channel_type == 'EMAIL').select(df_visa_comms.delivered).count()))*100"
   ]
  },
  {
   "cell_type": "code",
   "execution_count": 39,
   "id": "6ZLXv2AuQUbx",
   "metadata": {
    "colab": {
     "base_uri": "https://localhost:8080/"
    },
    "id": "6ZLXv2AuQUbx",
    "outputId": "32a18bdb-94c2-4987-8485-03e2dfb1630e"
   },
   "outputs": [
    {
     "data": {
      "text/plain": [
       "0.6"
      ]
     },
     "execution_count": 39,
     "metadata": {},
     "output_type": "execute_result"
    }
   ],
   "source": [
    "np.round(CR,1)"
   ]
  },
  {
   "cell_type": "markdown",
   "id": "rG0I2H-FQYhe",
   "metadata": {
    "id": "rG0I2H-FQYhe"
   },
   "source": [
    "**ConvR** = made target action / delivered emails * 100%"
   ]
  },
  {
   "cell_type": "code",
   "execution_count": 40,
   "id": "llJNPEB5Qo1t",
   "metadata": {
    "colab": {
     "base_uri": "https://localhost:8080/"
    },
    "id": "llJNPEB5Qo1t",
    "outputId": "e3fe9c3c-489f-4521-d696-fa6e9c702b57"
   },
   "outputs": [
    {
     "data": {
      "text/plain": [
       "5369"
      ]
     },
     "execution_count": 40,
     "metadata": {},
     "output_type": "execute_result"
    }
   ],
   "source": [
    "results.filter(results.flag_success_campaign == 1).select(results.flag_success_campaign).count()"
   ]
  },
  {
   "cell_type": "code",
   "execution_count": 41,
   "id": "r4DpbMduRwaC",
   "metadata": {
    "id": "r4DpbMduRwaC"
   },
   "outputs": [],
   "source": [
    "ConvR =((results.filter(results.flag_success_campaign == 1).select(results.flag_success_campaign).count())/(df_visa_comms.filter(df_visa_comms.delivered == 1).filter(df_visa_comms.channel_type == 'EMAIL').select(df_visa_comms.delivered).count())) * 100"
   ]
  },
  {
   "cell_type": "code",
   "execution_count": 42,
   "id": "RRCdKwc5SnAa",
   "metadata": {
    "colab": {
     "base_uri": "https://localhost:8080/"
    },
    "id": "RRCdKwc5SnAa",
    "outputId": "770164f9-1cdd-4d8d-b62b-80613f15a5af"
   },
   "outputs": [
    {
     "data": {
      "text/plain": [
       "1.1"
      ]
     },
     "execution_count": 42,
     "metadata": {},
     "output_type": "execute_result"
    }
   ],
   "source": [
    "np.round(ConvR,1)"
   ]
  },
  {
   "cell_type": "markdown",
   "id": "jxZhkGsjR1Wr",
   "metadata": {
    "id": "jxZhkGsjR1Wr"
   },
   "source": [
    "**Revenue_per_email** sum of revenue from campaign/delivered emails * 100"
   ]
  },
  {
   "cell_type": "code",
   "execution_count": 43,
   "id": "PDU5dq5tUhDZ",
   "metadata": {
    "colab": {
     "base_uri": "https://localhost:8080/"
    },
    "id": "PDU5dq5tUhDZ",
    "outputId": "48b336ba-e723-45b5-c8fd-bda3e8cb640b"
   },
   "outputs": [
    {
     "name": "stdout",
     "output_type": "stream",
     "text": [
      "+---------------------+\n",
      "|sum(campaign_txn_sum)|\n",
      "+---------------------+\n",
      "|  9.664379336999992E7|\n",
      "+---------------------+\n",
      "\n"
     ]
    }
   ],
   "source": [
    "\n",
    "(results.select(results.campaign_txn_sum).agg(sum(\"campaign_txn_sum\")).show()) "
   ]
  },
  {
   "cell_type": "code",
   "execution_count": 44,
   "id": "lO2qRBaHVRzZ",
   "metadata": {
    "colab": {
     "base_uri": "https://localhost:8080/"
    },
    "id": "lO2qRBaHVRzZ",
    "outputId": "f545aa99-e1d2-4e6d-d362-eaeee60c27c2"
   },
   "outputs": [
    {
     "data": {
      "text/plain": [
       "191.5"
      ]
     },
     "execution_count": 44,
     "metadata": {},
     "output_type": "execute_result"
    }
   ],
   "source": [
    "np.round(9.664379336999992E7 / (df_visa_comms.filter(df_visa_comms.delivered == 1).filter(df_visa_comms.channel_type == 'EMAIL').select(df_visa_comms.delivered).count()),1)"
   ]
  },
  {
   "cell_type": "markdown",
   "id": "PGMC442WbLiz",
   "metadata": {
    "id": "PGMC442WbLiz"
   },
   "source": [
    "Based on the results of analytics, we have identified DR. We see in absolute values that the number of emails delivered is equal to the number of emails sent and DR=100%. This is very good, because we see that the letters were not lost and reached the addressees. It is important to note that a high speed of delivery does not mean a high place in the Inbox – your email can be delivered, but end up in junk mail folders where the recipient will not notice it. Therefore, it is important to calculate other indicators.\n",
    "\n",
    "In this case, the bounce rate is also considered.\n",
    "The bounce rate errors can be of two types:\n",
    "\n",
    "Soft (Soft bounces). The error occurred on the mail server or on your side. Such errors can be corrected and still make sure that the letter reaches the client.\n",
    "\n",
    "Hard (Strong bounces). It is impossible to deliver the letter, for example, you have the wrong address or the mailbox has been deleted. If this indicator is close to 4-5%, you need to solve technical problems before continuing work.\n",
    "\n",
    "The open rate is quite low when compared with benchmarks from HubSpot and campaign monitoring **[ 1, 2 ]** for the banking industry. There they are kept in the range from 18 to 27 percent. \n",
    "\n",
    "The click rate seems more normal based on the benchmark of 1.27% **[3]**, but still lower.\n",
    "\n",
    "The CR seems low relative to benchmarks, but it needs to be looked at in dynamics also at the company **[4]**.\n",
    "\n",
    "It is important to note that RPE calculates the profit received/ (the number of emails sent is the number of undelivered emails). However, since we have we have the flag delivered and the quantity with the flag this matches the sent formula we have reduced. In fact, according to statistics, this indicator is tracked less often than others. RPE can be crucial in determining the success of a company **[5]**. It helps to evaluate the effectiveness of mailing, but without taking into account data on the cost of email. In this sense, RPE is an alternative to more accurate metrics, such as return on investment. It is easier and faster to calculate RPE - to calculate the return on investment, we need all the costs for the period. Plus, it is not always possible — for example, if there are several businesses or business units and there is no clear structuring of income and expenses. \n",
    "\n",
    "RPE is a non—independent metric. To interpret it more accurately, we need to analyze it together with the total revenue from the mailing list. Without this, it is impossible to say unequivocally that the growth of the RPE is always good, and the fall is always bad. Depending on how both indicators change, we can assume the reason and draw conclusions. If we had had an RPE for the last newsletter and we understood its boundaries, we could compare them in dynamics.\n",
    "\n",
    "Even if the figures are lower than expected, this does not always mean that the mailing list is bad. Indicators depends on many factors: for example, on the information field in which readers are located, or on how the database was compiled. Perhaps it was a cold base of clients in our marketing campaign, in general, the indicators were much lower.\n",
    "\n",
    "Therefore, there is a general recommendation: first of all, focus on how the indicators change."
   ]
  },
  {
   "cell_type": "markdown",
   "id": "EO95bvtggwAx",
   "metadata": {
    "id": "EO95bvtggwAx"
   },
   "source": [
    "Sources:\n",
    "1. https://www.campaignmonitor.com/resources/guides/email-marketing-benchmarks/\n",
    "2. https://blog.hubspot.com/sales/average-email-open-rate-benchmark?_ga=2.44782887.247958909.1559198466-1080458066.1558941446\n",
    "3. https://www.smartinsights.com/email-marketing/email-communications-strategy/statistics-sources-for-email-marketing/\n",
    "4. https://exponea.com/blog/email-marketing-analytics-metrics-goals-kpis/?ysclid=lbbylgx6fw730733283\n",
    "5. https://emailmatrix.ru/blog/the-value-of-calculating-revenue-per-email/?ysclid=lbbykxcwpe466291172"
   ]
  },
  {
   "cell_type": "markdown",
   "id": "ZAdbp-OXIMKc",
   "metadata": {
    "id": "ZAdbp-OXIMKc"
   },
   "source": [
    "# Comparison test and control groups"
   ]
  },
  {
   "cell_type": "code",
   "execution_count": 45,
   "id": "swnuBla9HzKt",
   "metadata": {
    "colab": {
     "base_uri": "https://localhost:8080/"
    },
    "id": "swnuBla9HzKt",
    "outputId": "af1c3b61-455b-499a-94ed-3d083adefd24"
   },
   "outputs": [
    {
     "name": "stdout",
     "output_type": "stream",
     "text": [
      "== Physical Plan ==\n",
      "AdaptiveSparkPlan isFinalPlan=false\n",
      "+- HashAggregate(keys=[cust_id#119, open_dt#935, campaign_txn_sum#931, all_trans_count#930L, flag_success_campaign#932, control_group_flg#938L], functions=[sum(coalesce(txn_sum#957, 0.0))])\n",
      "   +- HashAggregate(keys=[cust_id#119, open_dt#935, knownfloatingpointnormalized(normalizenanandzero(campaign_txn_sum#931)) AS campaign_txn_sum#931, all_trans_count#930L, flag_success_campaign#932, control_group_flg#938L], functions=[partial_sum(coalesce(txn_sum#957, 0.0))])\n",
      "      +- Project [cust_id#119, open_dt#935, campaign_txn_sum#931, all_trans_count#930L, flag_success_campaign#932, control_group_flg#938L, txn_sum#957]\n",
      "         +- SortMergeJoin [cust_id#119], [cust_id#954], LeftOuter\n",
      "            :- Sort [cust_id#119 ASC NULLS FIRST], false, 0\n",
      "            :  +- HashAggregate(keys=[cust_id#119, open_dt#935, all_trans_count#930L, _groupingexpression#978, control_group_flg#938L], functions=[sum(CASE WHEN (all_trans_count#930L >= 3) THEN txn_sum#128 ELSE 0.0 END)])\n",
      "            :     +- HashAggregate(keys=[cust_id#119, open_dt#935, all_trans_count#930L, _groupingexpression#978, control_group_flg#938L], functions=[partial_sum(CASE WHEN (all_trans_count#930L >= 3) THEN txn_sum#128 ELSE 0.0 END)])\n",
      "            :        +- Project [cust_id#119, open_dt#935, txn_sum#128, all_trans_count#930L, control_group_flg#938L, CASE WHEN (all_trans_count#930L >= 3) THEN 1 ELSE 0 END AS _groupingexpression#978]\n",
      "            :           +- Window [count(cust_id#125) windowspecdefinition(cust_id#119, specifiedwindowframe(RowFrame, unboundedpreceding$(), unboundedfollowing$())) AS all_trans_count#930L], [cust_id#119]\n",
      "            :              +- Project [cust_id#119, open_dt#935, txn_sum#128, control_group_flg#938L, cust_id#125]\n",
      "            :                 +- SortMergeJoin [cust_id#119], [cust_id#125], LeftOuter, ((open_dt#935 <= transaction_dt#126) AND (transaction_dt#126 < cast(date_add(cast(open_dt#935 as date), 14) as timestamp)))\n",
      "            :                    :- Sort [cust_id#119 ASC NULLS FIRST], false, 0\n",
      "            :                    :  +- HashAggregate(keys=[cust_id#119, control_group_flg#938L], functions=[min(open_dt#120)])\n",
      "            :                    :     +- HashAggregate(keys=[cust_id#119, control_group_flg#938L], functions=[partial_min(open_dt#120)])\n",
      "            :                    :        +- Project [cust_id#119, open_dt#120, control_group_flg#938L]\n",
      "            :                    :           +- SortMergeJoin [cust_id#119], [cust_id#944], Inner\n",
      "            :                    :              :- Sort [cust_id#119 ASC NULLS FIRST], false, 0\n",
      "            :                    :              :  +- Exchange hashpartitioning(cust_id#119, 200), ENSURE_REQUIREMENTS, [plan_id=14823]\n",
      "            :                    :              :     +- BroadcastHashJoin [cust_id#119], [cust_id#109], LeftAnti, BuildRight, true\n",
      "            :                    :              :        :- Project [cust_id#119, open_dt#120]\n",
      "            :                    :              :        :  +- Filter isnotnull(cust_id#119)\n",
      "            :                    :              :        :     +- Scan ExistingRDD[cust_id#119,open_dt#120,contact_dt#121]\n",
      "            :                    :              :        +- BroadcastExchange HashedRelationBroadcastMode(List(input[0, string, true]),true), [plan_id=14804]\n",
      "            :                    :              :           +- Project [cust_id#109]\n",
      "            :                    :              :              +- Filter (cnt#192L > 1)\n",
      "            :                    :              :                 +- HashAggregate(keys=[cust_id#109], functions=[count(distinct control_group_flg#103L)])\n",
      "            :                    :              :                    +- Exchange hashpartitioning(cust_id#109, 200), ENSURE_REQUIREMENTS, [plan_id=14799]\n",
      "            :                    :              :                       +- HashAggregate(keys=[cust_id#109], functions=[partial_count(distinct control_group_flg#103L)])\n",
      "            :                    :              :                          +- HashAggregate(keys=[cust_id#109, control_group_flg#103L], functions=[])\n",
      "            :                    :              :                             +- Exchange hashpartitioning(cust_id#109, control_group_flg#103L, 200), ENSURE_REQUIREMENTS, [plan_id=14795]\n",
      "            :                    :              :                                +- HashAggregate(keys=[cust_id#109, control_group_flg#103L], functions=[])\n",
      "            :                    :              :                                   +- Project [control_group_flg#103L, cust_id#109]\n",
      "            :                    :              :                                      +- Scan ExistingRDD[channel_type#101,contact_dt#102,control_group_flg#103L,sent#104L,delivered#105L,opened#106L,clicked#107L,blocked#108L,cust_id#109]\n",
      "            :                    :              +- Sort [cust_id#944 ASC NULLS FIRST], false, 0\n",
      "            :                    :                 +- Exchange hashpartitioning(cust_id#944, 200), ENSURE_REQUIREMENTS, [plan_id=14824]\n",
      "            :                    :                    +- HashAggregate(keys=[cust_id#944, control_group_flg#938L], functions=[])\n",
      "            :                    :                       +- Exchange hashpartitioning(cust_id#944, control_group_flg#938L, 200), ENSURE_REQUIREMENTS, [plan_id=14819]\n",
      "            :                    :                          +- HashAggregate(keys=[cust_id#944, control_group_flg#938L], functions=[])\n",
      "            :                    :                             +- BroadcastHashJoin [cust_id#944], [cust_id#323], LeftAnti, BuildRight, true\n",
      "            :                    :                                :- Project [control_group_flg#938L, cust_id#944]\n",
      "            :                    :                                :  +- Filter ((isnotnull(control_group_flg#938L) AND (control_group_flg#938L = 1)) AND isnotnull(cust_id#944))\n",
      "            :                    :                                :     +- Scan ExistingRDD[channel_type#936,contact_dt#937,control_group_flg#938L,sent#939L,delivered#940L,opened#941L,clicked#942L,blocked#943L,cust_id#944]\n",
      "            :                    :                                +- BroadcastExchange HashedRelationBroadcastMode(List(input[0, string, true]),true), [plan_id=14815]\n",
      "            :                    :                                   +- Project [cust_id#323]\n",
      "            :                    :                                      +- Filter (cnt#311L > 1)\n",
      "            :                    :                                         +- HashAggregate(keys=[cust_id#323], functions=[count(distinct control_group_flg#317L)])\n",
      "            :                    :                                            +- Exchange hashpartitioning(cust_id#323, 200), ENSURE_REQUIREMENTS, [plan_id=14810]\n",
      "            :                    :                                               +- HashAggregate(keys=[cust_id#323], functions=[partial_count(distinct control_group_flg#317L)])\n",
      "            :                    :                                                  +- HashAggregate(keys=[cust_id#323, control_group_flg#317L], functions=[])\n",
      "            :                    :                                                     +- Exchange hashpartitioning(cust_id#323, control_group_flg#317L, 200), ENSURE_REQUIREMENTS, [plan_id=14806]\n",
      "            :                    :                                                        +- HashAggregate(keys=[cust_id#323, control_group_flg#317L], functions=[])\n",
      "            :                    :                                                           +- Project [control_group_flg#317L, cust_id#323]\n",
      "            :                    :                                                              +- Scan ExistingRDD[channel_type#315,contact_dt#316,control_group_flg#317L,sent#318L,delivered#319L,opened#320L,clicked#321L,blocked#322L,cust_id#323]\n",
      "            :                    +- Sort [cust_id#125 ASC NULLS FIRST], false, 0\n",
      "            :                       +- Exchange hashpartitioning(cust_id#125, 200), ENSURE_REQUIREMENTS, [plan_id=14844]\n",
      "            :                          +- BroadcastHashJoin [cust_id#125], [cust_id#953], LeftAnti, BuildRight, true\n",
      "            :                             :- Project [cust_id#125, transaction_dt#126, txn_sum#128]\n",
      "            :                             :  +- Filter (((isnotnull(txn_sum#128) AND (txn_sum#128 >= 500.0)) AND isnotnull(cust_id#125)) AND isnotnull(transaction_dt#126))\n",
      "            :                             :     +- Scan ExistingRDD[cust_id#125,transaction_dt#126,mcc_id#127L,txn_sum#128]\n",
      "            :                             +- BroadcastExchange HashedRelationBroadcastMode(List(input[0, string, true]),true), [plan_id=14840]\n",
      "            :                                +- Project [cust_id#953]\n",
      "            :                                   +- Filter (cnt#221L > 1)\n",
      "            :                                      +- HashAggregate(keys=[cust_id#953], functions=[count(distinct control_group_flg#947L)])\n",
      "            :                                         +- Exchange hashpartitioning(cust_id#953, 200), ENSURE_REQUIREMENTS, [plan_id=14835]\n",
      "            :                                            +- HashAggregate(keys=[cust_id#953], functions=[partial_count(distinct control_group_flg#947L)])\n",
      "            :                                               +- HashAggregate(keys=[cust_id#953, control_group_flg#947L], functions=[])\n",
      "            :                                                  +- Exchange hashpartitioning(cust_id#953, control_group_flg#947L, 200), ENSURE_REQUIREMENTS, [plan_id=14831]\n",
      "            :                                                     +- HashAggregate(keys=[cust_id#953, control_group_flg#947L], functions=[])\n",
      "            :                                                        +- Project [control_group_flg#947L, cust_id#953]\n",
      "            :                                                           +- Scan ExistingRDD[channel_type#945,contact_dt#946,control_group_flg#947L,sent#948L,delivered#949L,opened#950L,clicked#951L,blocked#952L,cust_id#953]\n",
      "            +- Sort [cust_id#954 ASC NULLS FIRST], false, 0\n",
      "               +- Exchange hashpartitioning(cust_id#954, 200), ENSURE_REQUIREMENTS, [plan_id=14866]\n",
      "                  +- BroadcastHashJoin [cust_id#954], [cust_id#966], LeftAnti, BuildRight, true\n",
      "                     :- Project [cust_id#954, txn_sum#957]\n",
      "                     :  +- Filter isnotnull(cust_id#954)\n",
      "                     :     +- Scan ExistingRDD[cust_id#954,transaction_dt#955,mcc_id#956L,txn_sum#957]\n",
      "                     +- BroadcastExchange HashedRelationBroadcastMode(List(input[0, string, true]),true), [plan_id=14862]\n",
      "                        +- Project [cust_id#966]\n",
      "                           +- Filter (cnt#221L > 1)\n",
      "                              +- HashAggregate(keys=[cust_id#966], functions=[count(distinct control_group_flg#960L)])\n",
      "                                 +- Exchange hashpartitioning(cust_id#966, 200), ENSURE_REQUIREMENTS, [plan_id=14857]\n",
      "                                    +- HashAggregate(keys=[cust_id#966], functions=[partial_count(distinct control_group_flg#960L)])\n",
      "                                       +- HashAggregate(keys=[cust_id#966, control_group_flg#960L], functions=[])\n",
      "                                          +- Exchange hashpartitioning(cust_id#966, control_group_flg#960L, 200), ENSURE_REQUIREMENTS, [plan_id=14853]\n",
      "                                             +- HashAggregate(keys=[cust_id#966, control_group_flg#960L], functions=[])\n",
      "                                                +- Project [control_group_flg#960L, cust_id#966]\n",
      "                                                   +- Scan ExistingRDD[channel_type#958,contact_dt#959,control_group_flg#960L,sent#961L,delivered#962L,opened#963L,clicked#964L,blocked#965L,cust_id#966]\n",
      "\n",
      "\n"
     ]
    }
   ],
   "source": [
    "results_control = sqlContext.sql(\"\"\"WITH single_cards as (\n",
    "                                SELECT crds.cust_id , control_group_flg , min(crds.open_dt) as open_dt\n",
    "                                FROM crds \n",
    "                                INNER JOIN (SELECT cust_id , control_group_flg FROM comms GROUP BY cust_id , control_group_flg) as cm \n",
    "                                ON crds.cust_id = cm.cust_id AND cm.control_group_flg = 1  \n",
    "                                GROUP BY crds.cust_id, cm.control_group_flg\n",
    "                            )\n",
    "                            SELECT a.cust_id \n",
    "                                , a.open_dt \n",
    "                                , sum(coalesce(all_t.txn_sum,0)) as all_txn_sum\n",
    "                                , a.campaign_txn_sum\n",
    "                                , a.all_trans_count as campaign_trans_count\n",
    "                                , a.flag_success_campaign\n",
    "                                , a.control_group_flg\n",
    "                            FROM (\n",
    "                                SELECT cust_id \n",
    "                                    , open_dt \n",
    "                                    , sum(CASE WHEN main.all_trans_count >= 3 \n",
    "                                                THEN txn_sum\n",
    "                                                ELSE 0\n",
    "                                          END) AS campaign_txn_sum\n",
    "                                    , all_trans_count\n",
    "                                    , CASE WHEN main.all_trans_count >= 3 \n",
    "                                            THEN 1\n",
    "                                            ELSE 0\n",
    "                                      END AS flag_success_campaign\n",
    "                                    , control_group_flg\n",
    "                                FROM (\n",
    "                                    SELECT crds.cust_id \n",
    "                                        , crds.open_dt \n",
    "                                        , trans.transaction_dt \n",
    "                                        , trans.mcc_id \n",
    "                                        , trans.txn_sum\n",
    "                                        , count(trans.cust_id) OVER (PARTITION BY crds.cust_id) as all_trans_count\n",
    "                                        , crds.control_group_flg\n",
    "                                    FROM single_cards as crds\n",
    "                                    LEFT JOIN trans \n",
    "                                    ON crds.cust_id = trans.cust_id  \n",
    "                                    AND trans.txn_sum >= 500 \n",
    "                                    AND crds.open_dt <= trans.transaction_dt\n",
    "                                    AND trans.transaction_dt < date_add(crds.open_dt, 14) \n",
    "                                ) main\n",
    "                                GROUP BY cust_id \n",
    "                                    , open_dt \n",
    "                                    , all_trans_count\n",
    "                                    , CASE WHEN main.all_trans_count >= 3 \n",
    "                                            THEN 1\n",
    "                                            ELSE 0\n",
    "                                      END\n",
    "                                    , control_group_flg\n",
    "                            ) a\n",
    "                            LEFT JOIN trans as all_t\n",
    "                                ON a.cust_id = all_t.cust_id \n",
    "                            group by a.cust_id \n",
    "                                , a.open_dt \n",
    "                                , a.campaign_txn_sum\n",
    "                                , a.all_trans_count\n",
    "                                , a.flag_success_campaign\n",
    "                                , a.control_group_flg\n",
    "                            \"\"\")\n",
    "results_control.explain()"
   ]
  },
  {
   "cell_type": "markdown",
   "id": "ZrNef1QXCkfg",
   "metadata": {
    "id": "ZrNef1QXCkfg"
   },
   "source": [
    "We need to compare control and test groups: we will do it with the conversion rate and the comparison of the financial outcome (was there a financial uplift because of the compaign).\n",
    "In order to calculate the conversion rates, we will use the following formula:\n",
    "target action/number of people\n",
    "\n"
   ]
  },
  {
   "cell_type": "code",
   "execution_count": 61,
   "id": "rstv11CnIqV5",
   "metadata": {
    "id": "rstv11CnIqV5"
   },
   "outputs": [],
   "source": [
    "#control group \n",
    "\n",
    "target_action_control = results_control.filter(results_control.flag_success_campaign == 1).select(results_control.flag_success_campaign).count()\n",
    "numberofpeople_control =results_control.select(results_control.flag_success_campaign).count()\n",
    "ConvR_control= target_action_control/numberofpeople_control \n"
   ]
  },
  {
   "cell_type": "code",
   "execution_count": 75,
   "id": "aEbEIMetJokq",
   "metadata": {
    "id": "aEbEIMetJokq"
   },
   "outputs": [],
   "source": [
    "#test group \n",
    "\n",
    "target_action_test = results.filter(results.flag_success_campaign == 1).select(results.flag_success_campaign).count()\n",
    "numberofpeople_test =results.select(results.flag_success_campaign).count()\n",
    "ConvR_test= target_action_test/numberofpeople_test\n"
   ]
  },
  {
   "cell_type": "code",
   "execution_count": 106,
   "id": "H8YTZmLkj6AM",
   "metadata": {
    "colab": {
     "base_uri": "https://localhost:8080/"
    },
    "id": "H8YTZmLkj6AM",
    "outputId": "e8ea0f15-1152-4d1c-e98e-732e3d18bb67"
   },
   "outputs": [
    {
     "data": {
      "text/plain": [
       "20219"
      ]
     },
     "execution_count": 106,
     "metadata": {},
     "output_type": "execute_result"
    }
   ],
   "source": [
    "numberofpeople_test"
   ]
  },
  {
   "cell_type": "code",
   "execution_count": 107,
   "id": "VdXn1rJzj5FJ",
   "metadata": {
    "colab": {
     "base_uri": "https://localhost:8080/"
    },
    "id": "VdXn1rJzj5FJ",
    "outputId": "6fe7601c-6eca-4748-fa3c-08b6e9b386da"
   },
   "outputs": [
    {
     "data": {
      "text/plain": [
       "661"
      ]
     },
     "execution_count": 107,
     "metadata": {},
     "output_type": "execute_result"
    }
   ],
   "source": [
    "numberofpeople_control"
   ]
  },
  {
   "cell_type": "code",
   "execution_count": 80,
   "id": "Zowulh3aWK5l",
   "metadata": {
    "colab": {
     "base_uri": "https://localhost:8080/"
    },
    "id": "Zowulh3aWK5l",
    "outputId": "822cd2c6-6063-4b7a-cfeb-ceb684d6c450"
   },
   "outputs": [
    {
     "name": "stdout",
     "output_type": "stream",
     "text": [
      "the conversion rate of control group is 0.32526475037821484\n",
      "the conversion rate of test group is 0.2655423116870271\n"
     ]
    }
   ],
   "source": [
    "print(\"the conversion rate of control group is\", ConvR_control)\n",
    "print(\"the conversion rate of test group is\", ConvR_test)"
   ]
  },
  {
   "cell_type": "code",
   "execution_count": 100,
   "id": "0cCVuGh1CZLh",
   "metadata": {
    "colab": {
     "base_uri": "https://localhost:8080/"
    },
    "id": "0cCVuGh1CZLh",
    "outputId": "8f208403-d10a-41eb-98be-a5365f59074e"
   },
   "outputs": [
    {
     "name": "stdout",
     "output_type": "stream",
     "text": [
      "+---------------------+\n",
      "|sum(campaign_txn_sum)|\n",
      "+---------------------+\n",
      "|  9.664379336999992E7|\n",
      "+---------------------+\n",
      "\n"
     ]
    }
   ],
   "source": [
    "revenue_test =(results.select(results.campaign_txn_sum).agg(sum(\"campaign_txn_sum\")).show())"
   ]
  },
  {
   "cell_type": "code",
   "execution_count": 102,
   "id": "qVBMY_CactsN",
   "metadata": {
    "colab": {
     "base_uri": "https://localhost:8080/"
    },
    "id": "qVBMY_CactsN",
    "outputId": "929fa87d-5560-4f0f-96b7-1120b32ec376"
   },
   "outputs": [
    {
     "name": "stdout",
     "output_type": "stream",
     "text": [
      "+---------------------+\n",
      "|sum(campaign_txn_sum)|\n",
      "+---------------------+\n",
      "|    3316432.380000001|\n",
      "+---------------------+\n",
      "\n"
     ]
    }
   ],
   "source": [
    "revenue_control =(results_control.select(results_control.campaign_txn_sum).agg(sum(\"campaign_txn_sum\")).show())"
   ]
  },
  {
   "cell_type": "code",
   "execution_count": 103,
   "id": "AHn2frKrfXv7",
   "metadata": {
    "id": "AHn2frKrfXv7"
   },
   "outputs": [],
   "source": [
    "#bank's income is 1% of transactions\n",
    "profit_test= np.round(9.664379336999992E7)*0.01\n",
    "profit_control=np.round(3316432.380000001)*0.01"
   ]
  },
  {
   "cell_type": "code",
   "execution_count": 110,
   "id": "KRYPmgdurlab",
   "metadata": {
    "id": "KRYPmgdurlab"
   },
   "outputs": [],
   "source": [
    "uplift =(ConvR_test - ConvR_control)/ConvR_test"
   ]
  },
  {
   "cell_type": "code",
   "execution_count": 111,
   "id": "MzxYyJHl0v6s",
   "metadata": {
    "colab": {
     "base_uri": "https://localhost:8080/"
    },
    "id": "MzxYyJHl0v6s",
    "outputId": "2cf24a6b-9557-4d38-ea58-0e3699acd8bd"
   },
   "outputs": [
    {
     "name": "stdout",
     "output_type": "stream",
     "text": [
      "uplift is -0.22490742929728538\n"
     ]
    }
   ],
   "source": [
    "print(\"uplift is\",uplift)"
   ]
  },
  {
   "cell_type": "code",
   "execution_count": null,
   "id": "JM8xHFmrOJrA",
   "metadata": {
    "id": "JM8xHFmrOJrA"
   },
   "outputs": [],
   "source": [
    "z_score = (rate_b - rate_a) / np.sqrt(std_a**2 + std_b**2) \n",
    "print(f\"z-score is {z_score:0.3f}, with p-value {norm().sf(z_score):0.3f}\") \n",
    " \n",
    "# But I want a plot as well \n",
    "p = norm(rate_b - rate_a, np.sqrt(std_a**2 + std_b**2))"
   ]
  },
  {
   "cell_type": "markdown",
   "id": "tjgSXmvcCktG",
   "metadata": {
    "id": "tjgSXmvcCktG"
   },
   "source": [
    "The final results show that the conversion metrics are better in the control group, the uplift is negative"
   ]
  },
  {
   "cell_type": "markdown",
   "id": "VdgjXYLZKnwl",
   "metadata": {
    "id": "VdgjXYLZKnwl"
   },
   "source": [
    "Lets check the results:"
   ]
  },
  {
   "cell_type": "code",
   "execution_count": 122,
   "id": "8QynlKYYHvqk",
   "metadata": {
    "colab": {
     "base_uri": "https://localhost:8080/"
    },
    "id": "8QynlKYYHvqk",
    "outputId": "29cffe47-b230-4108-f89f-a841df639f51"
   },
   "outputs": [
    {
     "name": "stdout",
     "output_type": "stream",
     "text": [
      "z statistic: 3.41\n",
      "p-value: 0.001\n",
      "ci 95% for control group: [0.290, 0.361]\n",
      "ci 95% for treatment group: [0.259, 0.272]\n"
     ]
    }
   ],
   "source": [
    "from statsmodels.stats.proportion import proportions_ztest, proportion_confint\n",
    "n_con = 661\n",
    "n_treat = 20219\n",
    "successes = [215, 5369]\n",
    "nobs = [n_con, n_treat]\n",
    "\n",
    "z_stat, pval = proportions_ztest(successes, nobs=nobs)\n",
    "(lower_con, lower_treat), (upper_con, upper_treat) = proportion_confint(successes, nobs=nobs, alpha=0.05)\n",
    "\n",
    "print(f'z statistic: {z_stat:.2f}')\n",
    "print(f'p-value: {pval:.3f}')\n",
    "print(f'ci 95% for control group: [{lower_con:.3f}, {upper_con:.3f}]')\n",
    "print(f'ci 95% for treatment group: [{lower_treat:.3f}, {upper_treat:.3f}]')"
   ]
  },
  {
   "cell_type": "markdown",
   "id": "abe801ab",
   "metadata": {
    "id": "gZoiC78tKsmU"
   },
   "source": [
    "With the confidence level 95% we can state that the results are statistically significant "
   ]
  },
  {
   "cell_type": "markdown",
   "id": "3sc9hJijOz3F",
   "metadata": {
    "id": "3sc9hJijOz3F"
   },
   "source": [
    "# Creation of synthetic control group"
   ]
  },
  {
   "cell_type": "code",
   "execution_count": null,
   "id": "h7k-cIVmPJWS",
   "metadata": {
    "id": "h7k-cIVmPJWS"
   },
   "outputs": [],
   "source": [
    "from pyspark.sql.functions import col\n",
    "from pyspark.ml.feature import StringIndexer\n",
    "import numpy as np\n",
    "from pyspark.sql import functions as F, types as T\n",
    "from pyspark.ml.feature import VectorAssembler\n",
    "from pyspark.ml.linalg import Vectors, VectorUDT \n",
    "\n",
    "from sklearn.neighbors import NearestNeighbors\n",
    "\n",
    "df_ftrs = df_ftrs.withColumn(\"turnover\",col(\"turnover\").cast('double'))"
   ]
  },
  {
   "cell_type": "code",
   "execution_count": null,
   "id": "f_MrrxycPbvO",
   "metadata": {
    "id": "f_MrrxycPbvO"
   },
   "outputs": [],
   "source": [
    "group_cols = [\"cust_id\", \"involve_cd\", \"client_segment\", \"gender\", \"age_gr\"]\n",
    "\n",
    "df_ftrs_pivot = df_ftrs.groupBy(group_cols).pivot(\"mnth_gen\").sum(\"turnover\")\n",
    "df_ftrs_pivot.printSchema()\n",
    "del df_ftrs"
   ]
  },
  {
   "cell_type": "code",
   "execution_count": null,
   "id": "9AomvAW7PdY3",
   "metadata": {
    "id": "9AomvAW7PdY3"
   },
   "outputs": [],
   "source": [
    "df_ftrs_pivot = df_ftrs_pivot.drop(\"0\") "
   ]
  },
  {
   "cell_type": "code",
   "execution_count": null,
   "id": "qrPIXA8RPj2k",
   "metadata": {
    "id": "qrPIXA8RPj2k"
   },
   "outputs": [],
   "source": [
    "df_ftrs_pivot = df_ftrs_pivot.withColumn(\"involve_cd\",col(\"involve_cd\").cast('int'))\n",
    "df_ftrs_pivot.printSchema()\n",
    "df_ftrs_pivot = df_ftrs_pivot.na.fill(value=0)"
   ]
  },
  {
   "cell_type": "code",
   "execution_count": null,
   "id": "UNEXdo3bPnxs",
   "metadata": {
    "id": "UNEXdo3bPnxs"
   },
   "outputs": [],
   "source": [
    "indexer = StringIndexer(inputCols=[\"client_segment\", \"gender\", \"age_gr\"], outputCols=[\"client_segment_index\", \"gender_index\", \"age_gr_index\"], handleInvalid='skip', stringOrderType='frequencyDesc') \n",
    "df_ftrs_pivot_indexed = indexer.fit(df_ftrs_pivot).transform(df_ftrs_pivot) \n",
    "df_ftrs_pivot_indexed.printSchema()\n",
    "del df_ftrs_pivot\n"
   ]
  },
  {
   "cell_type": "code",
   "execution_count": null,
   "id": "ByGdxrtVPpVP",
   "metadata": {
    "id": "ByGdxrtVPpVP"
   },
   "outputs": [],
   "source": [
    "df_ftrs_pivot_indexed = df_ftrs_pivot_indexed.drop(\"client_segment\", \"gender\", \"age_gr\")\n",
    "df_ftrs_pivot_indexed.printSchema()"
   ]
  },
  {
   "cell_type": "code",
   "execution_count": null,
   "id": "cYFTSrdaPqqT",
   "metadata": {
    "id": "cYFTSrdaPqqT"
   },
   "outputs": [],
   "source": [
    "vecAssembler = VectorAssembler(inputCols=[\"client_segment_index\", \"gender_index\", \"age_gr_index\", \"2021-01-01\", \"2021-02-01\", \"2021-03-01\", \"2021-04-01\", \"2021-05-01\", \"2021-06-01\", \"2021-07-01\", \"2021-08-01\", \"2021-09-01\", \"2021-10-01\"], outputCol=\"features\", handleInvalid=\"skip\")"
   ]
  },
  {
   "cell_type": "code",
   "execution_count": null,
   "id": "r9QUhyu9PrhT",
   "metadata": {
    "id": "r9QUhyu9PrhT"
   },
   "outputs": [],
   "source": [
    "to_dense_vector_udf = F.udf(lambda l: Vectors.dense(l), VectorUDT())\n",
    "\n",
    "df_ftrs_pivot_indexed_vectorized = vecAssembler.transform(df_ftrs_pivot_indexed)\n",
    "df_ftrs_pivot_indexed_vectorized = df_ftrs_pivot_indexed_vectorized.withColumn('features', F.array(*df_ftrs_pivot_indexed_vectorized.columns))\n",
    "df_ftrs_pivot_indexed_vectorized.printSchema()"
   ]
  },
  {
   "cell_type": "code",
   "execution_count": null,
   "id": "aDkD_VYfPter",
   "metadata": {
    "id": "aDkD_VYfPter"
   },
   "outputs": [],
   "source": [
    "test_ftrs_pivot_indexed_vectorized = np.array(df_ftrs_pivot_indexed_vectorized.select(\"features\").filter(df_ftrs_pivot_indexed_vectorized.involve_cd == 1).limit(100).collect())"
   ]
  },
  {
   "cell_type": "code",
   "execution_count": null,
   "id": "ggu8kW6mPutl",
   "metadata": {
    "id": "ggu8kW6mPutl"
   },
   "outputs": [],
   "source": [
    "control_ftrs_pivot_indexed_vectorized = np.array(df_ftrs_pivot_indexed_vectorized.select(\"features\").filter(df_ftrs_pivot_indexed_vectorized.involve_cd == 0).limit(100).collect()).reshape(1, -1)"
   ]
  },
  {
   "cell_type": "code",
   "execution_count": null,
   "id": "VOpAAFe3Pv5O",
   "metadata": {
    "id": "VOpAAFe3Pv5O"
   },
   "outputs": [],
   "source": [
    "def get_matching_pairs(treated_x, non_treated_x):\n",
    "    nbrs = NearestNeighbors(n_neighbors=1, algorithm='ball_tree').fit(non_treated_x)\n",
    "    distances, indices = nbrs.kneighbors(treated_x)\n",
    "    return indices\n",
    "\n",
    "get_matching_pairs(test_ftrs_pivot_indexed_vectorized, control_ftrs_pivot_indexed_vectorized)"
   ]
  },
  {
   "cell_type": "markdown",
   "id": "JybhJo9LP1R9",
   "metadata": {
    "id": "JybhJo9LP1R9"
   },
   "source": [
    "Here we generated matching pairs using NearestNeighbors algorithm\n"
   ]
  },
  {
   "cell_type": "markdown",
   "id": "y0UOTlvPPBqz",
   "metadata": {
    "id": "y0UOTlvPPBqz"
   },
   "source": [
    "# Promo mechanics"
   ]
  },
  {
   "cell_type": "markdown",
   "id": "0V9B_Z8uip5E",
   "metadata": {
    "id": "0V9B_Z8uip5E"
   },
   "source": [
    "The openability can also be increased with the help of a header — this is the text that mail programs show after the subject of the letter. A preheader can also be useful and informative. For example, it can be interesting to continue and reveal the subject of the letter.\n",
    "\n",
    "Indicators can be improved by segmenting subscribers. A large database is divided into several, and their own letters are prepared for each group. This way the messages become more relevant for each segment\n",
    "\n",
    "We need to choose the optimal frequency of sending and not send emails too often or too rarely.In the first case, subscribers will forget what this newsletter is about, in the second case, they may consider it spam\n",
    "\n",
    "Also some another things can be considered: email design, easy-to-click call to action"
   ]
  },
  {
   "cell_type": "code",
   "execution_count": null,
   "id": "84d2e35d",
   "metadata": {},
   "outputs": [],
   "source": []
  }
 ],
 "metadata": {
  "colab": {
   "provenance": []
  },
  "kernelspec": {
   "display_name": "Python 3",
   "language": "python",
   "name": "python3"
  },
  "language_info": {
   "codemirror_mode": {
    "name": "ipython",
    "version": 3
   },
   "file_extension": ".py",
   "mimetype": "text/x-python",
   "name": "python",
   "nbconvert_exporter": "python",
   "pygments_lexer": "ipython3",
   "version": "3.8.8"
  }
 },
 "nbformat": 4,
 "nbformat_minor": 5
}
